{
 "cells": [
  {
   "cell_type": "code",
   "execution_count": 1,
   "metadata": {
    "collapsed": false
   },
   "outputs": [
    {
     "name": "stdout",
     "output_type": "stream",
     "text": [
      "Once deleted, variables cannot be recovered. Proceed (y/[n])? y\n"
     ]
    }
   ],
   "source": [
    "%reset"
   ]
  },
  {
   "cell_type": "code",
   "execution_count": 2,
   "metadata": {
    "collapsed": true
   },
   "outputs": [],
   "source": [
    "from sklearn.metrics import mean_squared_log_error"
   ]
  },
  {
   "cell_type": "code",
   "execution_count": 3,
   "metadata": {
    "collapsed": true
   },
   "outputs": [],
   "source": [
    "import warnings\n",
    "warnings.filterwarnings('ignore')"
   ]
  },
  {
   "cell_type": "code",
   "execution_count": 4,
   "metadata": {
    "collapsed": false
   },
   "outputs": [],
   "source": [
    "import pandas as pd\n",
    "import numpy as np\n",
    "import matplotlib.pyplot as plt\n",
    "from sklearn.ensemble import RandomForestClassifier\n",
    "from sklearn.model_selection import cross_val_predict\n",
    "from sklearn.model_selection import train_test_split\n",
    "from sklearn.metrics import accuracy_score\n",
    "from sklearn.model_selection import cross_val_score\n",
    "from sklearn.model_selection import cross_val_predict\n",
    "import xgboost as xgb\n",
    "from sklearn.linear_model import Lasso\n",
    "from sklearn.linear_model import RidgeClassifier\n",
    "from sklearn.neural_network import MLPClassifier\n",
    "from sklearn.metrics import precision_score\n",
    "from sklearn import cross_validation\n",
    "from datetime import timedelta\n",
    "from sklearn import metrics\n",
    "from sklearn.metrics import mean_squared_error,confusion_matrix\n",
    "from sklearn.metrics import classification_report\n",
    "from sklearn.metrics import log_loss\n",
    "from imblearn.over_sampling import SMOTE \n",
    "from sklearn.preprocessing import MinMaxScaler,StandardScaler\n",
    "from sklearn import preprocessing\n",
    "from sklearn.model_selection import StratifiedKFold\n",
    "from sklearn.preprocessing import normalize\n",
    "from sklearn.grid_search import GridSearchCV\n",
    "import re\n",
    "import math\n",
    "from sklearn.preprocessing import Imputer\n",
    "import os\n",
    "import seaborn as sb\n",
    "from sklearn.utils import shuffle\n",
    "import lightgbm as lgb\n",
    "import holidays\n",
    "from sklearn.linear_model import LogisticRegression\n",
    "from sklearn.cross_validation import StratifiedKFold\n",
    "from sklearn.ensemble import GradientBoostingClassifier"
   ]
  },
  {
   "cell_type": "code",
   "execution_count": 5,
   "metadata": {
    "collapsed": true
   },
   "outputs": [],
   "source": [
    "train_data=pd.read_csv(r'E:\\hackathons\\train.csv')\n",
    "history_meals=pd.read_csv(r'E:\\hackathons\\meal_info.csv')\n",
    "history_center=pd.read_csv(r'E:\\hackathons\\fulfilment_center_info.csv')"
   ]
  },
  {
   "cell_type": "code",
   "execution_count": 6,
   "metadata": {
    "collapsed": false
   },
   "outputs": [
    {
     "data": {
      "text/plain": [
       "meal_id     0\n",
       "category    0\n",
       "cuisine     0\n",
       "dtype: int64"
      ]
     },
     "execution_count": 6,
     "metadata": {},
     "output_type": "execute_result"
    }
   ],
   "source": [
    "history_meals.isnull().sum()"
   ]
  },
  {
   "cell_type": "code",
   "execution_count": 7,
   "metadata": {
    "collapsed": false
   },
   "outputs": [
    {
     "data": {
      "text/plain": [
       "id                       0\n",
       "week                     0\n",
       "center_id                0\n",
       "meal_id                  0\n",
       "checkout_price           0\n",
       "base_price               0\n",
       "emailer_for_promotion    0\n",
       "homepage_featured        0\n",
       "num_orders               0\n",
       "dtype: int64"
      ]
     },
     "execution_count": 7,
     "metadata": {},
     "output_type": "execute_result"
    }
   ],
   "source": [
    "train_data.isnull().sum()"
   ]
  },
  {
   "cell_type": "code",
   "execution_count": 8,
   "metadata": {
    "collapsed": false
   },
   "outputs": [
    {
     "data": {
      "text/plain": [
       "center_id      0\n",
       "city_code      0\n",
       "region_code    0\n",
       "center_type    0\n",
       "op_area        0\n",
       "dtype: int64"
      ]
     },
     "execution_count": 8,
     "metadata": {},
     "output_type": "execute_result"
    }
   ],
   "source": [
    "history_center.isnull().sum()"
   ]
  },
  {
   "cell_type": "code",
   "execution_count": 9,
   "metadata": {
    "collapsed": false
   },
   "outputs": [
    {
     "data": {
      "text/html": [
       "<div>\n",
       "<style>\n",
       "    .dataframe thead tr:only-child th {\n",
       "        text-align: right;\n",
       "    }\n",
       "\n",
       "    .dataframe thead th {\n",
       "        text-align: left;\n",
       "    }\n",
       "\n",
       "    .dataframe tbody tr th {\n",
       "        vertical-align: top;\n",
       "    }\n",
       "</style>\n",
       "<table border=\"1\" class=\"dataframe\">\n",
       "  <thead>\n",
       "    <tr style=\"text-align: right;\">\n",
       "      <th></th>\n",
       "      <th>id</th>\n",
       "      <th>week</th>\n",
       "      <th>center_id</th>\n",
       "      <th>meal_id</th>\n",
       "      <th>checkout_price</th>\n",
       "      <th>base_price</th>\n",
       "      <th>emailer_for_promotion</th>\n",
       "      <th>homepage_featured</th>\n",
       "      <th>num_orders</th>\n",
       "    </tr>\n",
       "  </thead>\n",
       "  <tbody>\n",
       "    <tr>\n",
       "      <th>count</th>\n",
       "      <td>4.565480e+05</td>\n",
       "      <td>456548.000000</td>\n",
       "      <td>456548.000000</td>\n",
       "      <td>456548.000000</td>\n",
       "      <td>456548.000000</td>\n",
       "      <td>456548.000000</td>\n",
       "      <td>456548.000000</td>\n",
       "      <td>456548.00000</td>\n",
       "      <td>456548.000000</td>\n",
       "    </tr>\n",
       "    <tr>\n",
       "      <th>mean</th>\n",
       "      <td>1.250096e+06</td>\n",
       "      <td>74.768771</td>\n",
       "      <td>82.105796</td>\n",
       "      <td>2024.337458</td>\n",
       "      <td>332.238933</td>\n",
       "      <td>354.156627</td>\n",
       "      <td>0.081152</td>\n",
       "      <td>0.10920</td>\n",
       "      <td>261.872760</td>\n",
       "    </tr>\n",
       "    <tr>\n",
       "      <th>std</th>\n",
       "      <td>1.443548e+05</td>\n",
       "      <td>41.524956</td>\n",
       "      <td>45.975046</td>\n",
       "      <td>547.420920</td>\n",
       "      <td>152.939723</td>\n",
       "      <td>160.715914</td>\n",
       "      <td>0.273069</td>\n",
       "      <td>0.31189</td>\n",
       "      <td>395.922798</td>\n",
       "    </tr>\n",
       "    <tr>\n",
       "      <th>min</th>\n",
       "      <td>1.000000e+06</td>\n",
       "      <td>1.000000</td>\n",
       "      <td>10.000000</td>\n",
       "      <td>1062.000000</td>\n",
       "      <td>2.970000</td>\n",
       "      <td>55.350000</td>\n",
       "      <td>0.000000</td>\n",
       "      <td>0.00000</td>\n",
       "      <td>13.000000</td>\n",
       "    </tr>\n",
       "    <tr>\n",
       "      <th>25%</th>\n",
       "      <td>1.124999e+06</td>\n",
       "      <td>39.000000</td>\n",
       "      <td>43.000000</td>\n",
       "      <td>1558.000000</td>\n",
       "      <td>228.950000</td>\n",
       "      <td>243.500000</td>\n",
       "      <td>0.000000</td>\n",
       "      <td>0.00000</td>\n",
       "      <td>54.000000</td>\n",
       "    </tr>\n",
       "    <tr>\n",
       "      <th>50%</th>\n",
       "      <td>1.250184e+06</td>\n",
       "      <td>76.000000</td>\n",
       "      <td>76.000000</td>\n",
       "      <td>1993.000000</td>\n",
       "      <td>296.820000</td>\n",
       "      <td>310.460000</td>\n",
       "      <td>0.000000</td>\n",
       "      <td>0.00000</td>\n",
       "      <td>136.000000</td>\n",
       "    </tr>\n",
       "    <tr>\n",
       "      <th>75%</th>\n",
       "      <td>1.375140e+06</td>\n",
       "      <td>111.000000</td>\n",
       "      <td>110.000000</td>\n",
       "      <td>2539.000000</td>\n",
       "      <td>445.230000</td>\n",
       "      <td>458.870000</td>\n",
       "      <td>0.000000</td>\n",
       "      <td>0.00000</td>\n",
       "      <td>324.000000</td>\n",
       "    </tr>\n",
       "    <tr>\n",
       "      <th>max</th>\n",
       "      <td>1.499999e+06</td>\n",
       "      <td>145.000000</td>\n",
       "      <td>186.000000</td>\n",
       "      <td>2956.000000</td>\n",
       "      <td>866.270000</td>\n",
       "      <td>866.270000</td>\n",
       "      <td>1.000000</td>\n",
       "      <td>1.00000</td>\n",
       "      <td>24299.000000</td>\n",
       "    </tr>\n",
       "  </tbody>\n",
       "</table>\n",
       "</div>"
      ],
      "text/plain": [
       "                 id           week      center_id        meal_id  \\\n",
       "count  4.565480e+05  456548.000000  456548.000000  456548.000000   \n",
       "mean   1.250096e+06      74.768771      82.105796    2024.337458   \n",
       "std    1.443548e+05      41.524956      45.975046     547.420920   \n",
       "min    1.000000e+06       1.000000      10.000000    1062.000000   \n",
       "25%    1.124999e+06      39.000000      43.000000    1558.000000   \n",
       "50%    1.250184e+06      76.000000      76.000000    1993.000000   \n",
       "75%    1.375140e+06     111.000000     110.000000    2539.000000   \n",
       "max    1.499999e+06     145.000000     186.000000    2956.000000   \n",
       "\n",
       "       checkout_price     base_price  emailer_for_promotion  \\\n",
       "count   456548.000000  456548.000000          456548.000000   \n",
       "mean       332.238933     354.156627               0.081152   \n",
       "std        152.939723     160.715914               0.273069   \n",
       "min          2.970000      55.350000               0.000000   \n",
       "25%        228.950000     243.500000               0.000000   \n",
       "50%        296.820000     310.460000               0.000000   \n",
       "75%        445.230000     458.870000               0.000000   \n",
       "max        866.270000     866.270000               1.000000   \n",
       "\n",
       "       homepage_featured     num_orders  \n",
       "count       456548.00000  456548.000000  \n",
       "mean             0.10920     261.872760  \n",
       "std              0.31189     395.922798  \n",
       "min              0.00000      13.000000  \n",
       "25%              0.00000      54.000000  \n",
       "50%              0.00000     136.000000  \n",
       "75%              0.00000     324.000000  \n",
       "max              1.00000   24299.000000  "
      ]
     },
     "execution_count": 9,
     "metadata": {},
     "output_type": "execute_result"
    }
   ],
   "source": [
    "train_data.describe()"
   ]
  },
  {
   "cell_type": "code",
   "execution_count": 10,
   "metadata": {
    "collapsed": false
   },
   "outputs": [
    {
     "data": {
      "text/html": [
       "<div>\n",
       "<style>\n",
       "    .dataframe thead tr:only-child th {\n",
       "        text-align: right;\n",
       "    }\n",
       "\n",
       "    .dataframe thead th {\n",
       "        text-align: left;\n",
       "    }\n",
       "\n",
       "    .dataframe tbody tr th {\n",
       "        vertical-align: top;\n",
       "    }\n",
       "</style>\n",
       "<table border=\"1\" class=\"dataframe\">\n",
       "  <thead>\n",
       "    <tr style=\"text-align: right;\">\n",
       "      <th></th>\n",
       "      <th>id</th>\n",
       "      <th>week</th>\n",
       "      <th>center_id</th>\n",
       "      <th>meal_id</th>\n",
       "      <th>checkout_price</th>\n",
       "      <th>base_price</th>\n",
       "      <th>emailer_for_promotion</th>\n",
       "      <th>homepage_featured</th>\n",
       "      <th>num_orders</th>\n",
       "    </tr>\n",
       "  </thead>\n",
       "  <tbody>\n",
       "    <tr>\n",
       "      <th>0</th>\n",
       "      <td>1379560</td>\n",
       "      <td>1</td>\n",
       "      <td>55</td>\n",
       "      <td>1885</td>\n",
       "      <td>136.83</td>\n",
       "      <td>152.29</td>\n",
       "      <td>0</td>\n",
       "      <td>0</td>\n",
       "      <td>177</td>\n",
       "    </tr>\n",
       "    <tr>\n",
       "      <th>1</th>\n",
       "      <td>1466964</td>\n",
       "      <td>1</td>\n",
       "      <td>55</td>\n",
       "      <td>1993</td>\n",
       "      <td>136.83</td>\n",
       "      <td>135.83</td>\n",
       "      <td>0</td>\n",
       "      <td>0</td>\n",
       "      <td>270</td>\n",
       "    </tr>\n",
       "    <tr>\n",
       "      <th>2</th>\n",
       "      <td>1346989</td>\n",
       "      <td>1</td>\n",
       "      <td>55</td>\n",
       "      <td>2539</td>\n",
       "      <td>134.86</td>\n",
       "      <td>135.86</td>\n",
       "      <td>0</td>\n",
       "      <td>0</td>\n",
       "      <td>189</td>\n",
       "    </tr>\n",
       "    <tr>\n",
       "      <th>3</th>\n",
       "      <td>1338232</td>\n",
       "      <td>1</td>\n",
       "      <td>55</td>\n",
       "      <td>2139</td>\n",
       "      <td>339.50</td>\n",
       "      <td>437.53</td>\n",
       "      <td>0</td>\n",
       "      <td>0</td>\n",
       "      <td>54</td>\n",
       "    </tr>\n",
       "    <tr>\n",
       "      <th>4</th>\n",
       "      <td>1448490</td>\n",
       "      <td>1</td>\n",
       "      <td>55</td>\n",
       "      <td>2631</td>\n",
       "      <td>243.50</td>\n",
       "      <td>242.50</td>\n",
       "      <td>0</td>\n",
       "      <td>0</td>\n",
       "      <td>40</td>\n",
       "    </tr>\n",
       "  </tbody>\n",
       "</table>\n",
       "</div>"
      ],
      "text/plain": [
       "        id  week  center_id  meal_id  checkout_price  base_price  \\\n",
       "0  1379560     1         55     1885          136.83      152.29   \n",
       "1  1466964     1         55     1993          136.83      135.83   \n",
       "2  1346989     1         55     2539          134.86      135.86   \n",
       "3  1338232     1         55     2139          339.50      437.53   \n",
       "4  1448490     1         55     2631          243.50      242.50   \n",
       "\n",
       "   emailer_for_promotion  homepage_featured  num_orders  \n",
       "0                      0                  0         177  \n",
       "1                      0                  0         270  \n",
       "2                      0                  0         189  \n",
       "3                      0                  0          54  \n",
       "4                      0                  0          40  "
      ]
     },
     "execution_count": 10,
     "metadata": {},
     "output_type": "execute_result"
    }
   ],
   "source": [
    "train_data.head()"
   ]
  },
  {
   "cell_type": "markdown",
   "metadata": {},
   "source": [
    "## meals analysis"
   ]
  },
  {
   "cell_type": "code",
   "execution_count": 11,
   "metadata": {
    "collapsed": false
   },
   "outputs": [
    {
     "data": {
      "text/plain": [
       "51"
      ]
     },
     "execution_count": 11,
     "metadata": {},
     "output_type": "execute_result"
    }
   ],
   "source": [
    "history_meals.shape[0]"
   ]
  },
  {
   "cell_type": "code",
   "execution_count": 12,
   "metadata": {
    "collapsed": false
   },
   "outputs": [
    {
     "data": {
      "text/plain": [
       "51"
      ]
     },
     "execution_count": 12,
     "metadata": {},
     "output_type": "execute_result"
    }
   ],
   "source": [
    "history_meals.meal_id.nunique()"
   ]
  },
  {
   "cell_type": "code",
   "execution_count": 13,
   "metadata": {
    "collapsed": false
   },
   "outputs": [
    {
     "data": {
      "text/plain": [
       "Beverages       12\n",
       "Desert           3\n",
       "Soup             3\n",
       "Starters         3\n",
       "Other Snacks     3\n",
       "Seafood          3\n",
       "Biryani          3\n",
       "Pizza            3\n",
       "Salad            3\n",
       "Fish             3\n",
       "Sandwich         3\n",
       "Pasta            3\n",
       "Extras           3\n",
       "Rice Bowl        3\n",
       "Name: category, dtype: int64"
      ]
     },
     "execution_count": 13,
     "metadata": {},
     "output_type": "execute_result"
    }
   ],
   "source": [
    "history_meals.category.value_counts()"
   ]
  },
  {
   "cell_type": "code",
   "execution_count": 14,
   "metadata": {
    "collapsed": false
   },
   "outputs": [
    {
     "data": {
      "text/plain": [
       "Thai           15\n",
       "Continental    12\n",
       "Italian        12\n",
       "Indian         12\n",
       "Name: cuisine, dtype: int64"
      ]
     },
     "execution_count": 14,
     "metadata": {},
     "output_type": "execute_result"
    }
   ],
   "source": [
    "history_meals.cuisine.value_counts()"
   ]
  },
  {
   "cell_type": "code",
   "execution_count": 15,
   "metadata": {
    "collapsed": false
   },
   "outputs": [
    {
     "data": {
      "text/html": [
       "<div>\n",
       "<style>\n",
       "    .dataframe thead tr:only-child th {\n",
       "        text-align: right;\n",
       "    }\n",
       "\n",
       "    .dataframe thead th {\n",
       "        text-align: left;\n",
       "    }\n",
       "\n",
       "    .dataframe tbody tr th {\n",
       "        vertical-align: top;\n",
       "    }\n",
       "</style>\n",
       "<table border=\"1\" class=\"dataframe\">\n",
       "  <thead>\n",
       "    <tr style=\"text-align: right;\">\n",
       "      <th></th>\n",
       "      <th>cuisine</th>\n",
       "      <th>category</th>\n",
       "      <th>meal_id</th>\n",
       "    </tr>\n",
       "  </thead>\n",
       "  <tbody>\n",
       "    <tr>\n",
       "      <th>0</th>\n",
       "      <td>Continental</td>\n",
       "      <td>Beverages</td>\n",
       "      <td>3</td>\n",
       "    </tr>\n",
       "    <tr>\n",
       "      <th>1</th>\n",
       "      <td>Continental</td>\n",
       "      <td>Fish</td>\n",
       "      <td>3</td>\n",
       "    </tr>\n",
       "    <tr>\n",
       "      <th>2</th>\n",
       "      <td>Continental</td>\n",
       "      <td>Pizza</td>\n",
       "      <td>3</td>\n",
       "    </tr>\n",
       "    <tr>\n",
       "      <th>3</th>\n",
       "      <td>Continental</td>\n",
       "      <td>Seafood</td>\n",
       "      <td>3</td>\n",
       "    </tr>\n",
       "    <tr>\n",
       "      <th>4</th>\n",
       "      <td>Indian</td>\n",
       "      <td>Beverages</td>\n",
       "      <td>3</td>\n",
       "    </tr>\n",
       "    <tr>\n",
       "      <th>5</th>\n",
       "      <td>Indian</td>\n",
       "      <td>Biryani</td>\n",
       "      <td>3</td>\n",
       "    </tr>\n",
       "    <tr>\n",
       "      <th>6</th>\n",
       "      <td>Indian</td>\n",
       "      <td>Desert</td>\n",
       "      <td>3</td>\n",
       "    </tr>\n",
       "    <tr>\n",
       "      <th>7</th>\n",
       "      <td>Indian</td>\n",
       "      <td>Rice Bowl</td>\n",
       "      <td>3</td>\n",
       "    </tr>\n",
       "    <tr>\n",
       "      <th>8</th>\n",
       "      <td>Italian</td>\n",
       "      <td>Beverages</td>\n",
       "      <td>3</td>\n",
       "    </tr>\n",
       "    <tr>\n",
       "      <th>9</th>\n",
       "      <td>Italian</td>\n",
       "      <td>Pasta</td>\n",
       "      <td>3</td>\n",
       "    </tr>\n",
       "    <tr>\n",
       "      <th>10</th>\n",
       "      <td>Italian</td>\n",
       "      <td>Salad</td>\n",
       "      <td>3</td>\n",
       "    </tr>\n",
       "    <tr>\n",
       "      <th>11</th>\n",
       "      <td>Italian</td>\n",
       "      <td>Sandwich</td>\n",
       "      <td>3</td>\n",
       "    </tr>\n",
       "    <tr>\n",
       "      <th>12</th>\n",
       "      <td>Thai</td>\n",
       "      <td>Beverages</td>\n",
       "      <td>3</td>\n",
       "    </tr>\n",
       "    <tr>\n",
       "      <th>13</th>\n",
       "      <td>Thai</td>\n",
       "      <td>Extras</td>\n",
       "      <td>3</td>\n",
       "    </tr>\n",
       "    <tr>\n",
       "      <th>14</th>\n",
       "      <td>Thai</td>\n",
       "      <td>Other Snacks</td>\n",
       "      <td>3</td>\n",
       "    </tr>\n",
       "    <tr>\n",
       "      <th>15</th>\n",
       "      <td>Thai</td>\n",
       "      <td>Soup</td>\n",
       "      <td>3</td>\n",
       "    </tr>\n",
       "    <tr>\n",
       "      <th>16</th>\n",
       "      <td>Thai</td>\n",
       "      <td>Starters</td>\n",
       "      <td>3</td>\n",
       "    </tr>\n",
       "  </tbody>\n",
       "</table>\n",
       "</div>"
      ],
      "text/plain": [
       "        cuisine      category  meal_id\n",
       "0   Continental     Beverages        3\n",
       "1   Continental          Fish        3\n",
       "2   Continental         Pizza        3\n",
       "3   Continental       Seafood        3\n",
       "4        Indian     Beverages        3\n",
       "5        Indian       Biryani        3\n",
       "6        Indian        Desert        3\n",
       "7        Indian     Rice Bowl        3\n",
       "8       Italian     Beverages        3\n",
       "9       Italian         Pasta        3\n",
       "10      Italian         Salad        3\n",
       "11      Italian      Sandwich        3\n",
       "12         Thai     Beverages        3\n",
       "13         Thai        Extras        3\n",
       "14         Thai  Other Snacks        3\n",
       "15         Thai          Soup        3\n",
       "16         Thai      Starters        3"
      ]
     },
     "execution_count": 15,
     "metadata": {},
     "output_type": "execute_result"
    }
   ],
   "source": [
    "history_meals.groupby(['cuisine','category'],as_index=False).meal_id.count()"
   ]
  },
  {
   "cell_type": "markdown",
   "metadata": {},
   "source": [
    "## center analysis"
   ]
  },
  {
   "cell_type": "code",
   "execution_count": 16,
   "metadata": {
    "collapsed": false
   },
   "outputs": [
    {
     "data": {
      "text/plain": [
       "77"
      ]
     },
     "execution_count": 16,
     "metadata": {},
     "output_type": "execute_result"
    }
   ],
   "source": [
    "history_center.shape[0]"
   ]
  },
  {
   "cell_type": "code",
   "execution_count": 17,
   "metadata": {
    "collapsed": false
   },
   "outputs": [
    {
     "data": {
      "text/plain": [
       "77"
      ]
     },
     "execution_count": 17,
     "metadata": {},
     "output_type": "execute_result"
    }
   ],
   "source": [
    "history_center.center_id.nunique()"
   ]
  },
  {
   "cell_type": "code",
   "execution_count": 18,
   "metadata": {
    "collapsed": false
   },
   "outputs": [],
   "source": [
    "def get_unique(df):\n",
    "    for x in df.columns.tolist():\n",
    "        print(x,\" : \",str(df[x].nunique()))"
   ]
  },
  {
   "cell_type": "code",
   "execution_count": 19,
   "metadata": {
    "collapsed": false
   },
   "outputs": [
    {
     "name": "stdout",
     "output_type": "stream",
     "text": [
      "center_id  :  77\n",
      "city_code  :  51\n",
      "region_code  :  8\n",
      "center_type  :  3\n",
      "op_area  :  30\n"
     ]
    }
   ],
   "source": [
    "get_unique(history_center)"
   ]
  },
  {
   "cell_type": "code",
   "execution_count": 20,
   "metadata": {
    "collapsed": false
   },
   "outputs": [
    {
     "data": {
      "text/html": [
       "<div>\n",
       "<style>\n",
       "    .dataframe thead tr:only-child th {\n",
       "        text-align: right;\n",
       "    }\n",
       "\n",
       "    .dataframe thead th {\n",
       "        text-align: left;\n",
       "    }\n",
       "\n",
       "    .dataframe tbody tr th {\n",
       "        vertical-align: top;\n",
       "    }\n",
       "</style>\n",
       "<table border=\"1\" class=\"dataframe\">\n",
       "  <thead>\n",
       "    <tr style=\"text-align: right;\">\n",
       "      <th></th>\n",
       "      <th>center_type</th>\n",
       "      <th>center_id</th>\n",
       "    </tr>\n",
       "  </thead>\n",
       "  <tbody>\n",
       "    <tr>\n",
       "      <th>0</th>\n",
       "      <td>TYPE_A</td>\n",
       "      <td>43</td>\n",
       "    </tr>\n",
       "    <tr>\n",
       "      <th>1</th>\n",
       "      <td>TYPE_B</td>\n",
       "      <td>15</td>\n",
       "    </tr>\n",
       "    <tr>\n",
       "      <th>2</th>\n",
       "      <td>TYPE_C</td>\n",
       "      <td>19</td>\n",
       "    </tr>\n",
       "  </tbody>\n",
       "</table>\n",
       "</div>"
      ],
      "text/plain": [
       "  center_type  center_id\n",
       "0      TYPE_A         43\n",
       "1      TYPE_B         15\n",
       "2      TYPE_C         19"
      ]
     },
     "execution_count": 20,
     "metadata": {},
     "output_type": "execute_result"
    }
   ],
   "source": [
    "history_center.groupby(['center_type'],as_index=False).center_id.count()"
   ]
  },
  {
   "cell_type": "code",
   "execution_count": 21,
   "metadata": {
    "collapsed": false
   },
   "outputs": [
    {
     "data": {
      "text/plain": [
       "center_type\n",
       "TYPE_A    8\n",
       "TYPE_B    4\n",
       "TYPE_C    4\n",
       "Name: region_code, dtype: int64"
      ]
     },
     "execution_count": 21,
     "metadata": {},
     "output_type": "execute_result"
    }
   ],
   "source": [
    "history_center.groupby(['center_type']).region_code.nunique()"
   ]
  },
  {
   "cell_type": "code",
   "execution_count": 22,
   "metadata": {
    "collapsed": false
   },
   "outputs": [
    {
     "data": {
      "text/plain": [
       "center_type  region_code\n",
       "TYPE_A       23              1\n",
       "             34             10\n",
       "             35              1\n",
       "             56             17\n",
       "             71              1\n",
       "             77             10\n",
       "             85              2\n",
       "             93              1\n",
       "TYPE_B       34              5\n",
       "             56              6\n",
       "             77              3\n",
       "             85              1\n",
       "TYPE_C       34              6\n",
       "             56              7\n",
       "             77              4\n",
       "             85              2\n",
       "Name: center_id, dtype: int64"
      ]
     },
     "execution_count": 22,
     "metadata": {},
     "output_type": "execute_result"
    }
   ],
   "source": [
    "history_center.groupby(['center_type','region_code']).center_id.count()"
   ]
  },
  {
   "cell_type": "code",
   "execution_count": 23,
   "metadata": {
    "collapsed": false
   },
   "outputs": [
    {
     "data": {
      "text/plain": [
       "92"
      ]
     },
     "execution_count": 23,
     "metadata": {},
     "output_type": "execute_result"
    }
   ],
   "source": [
    "# 4 region code are specific to TYPE_A\n",
    "23-1\n",
    "35-1\n",
    "71-1\n",
    "93-1\n",
    "# rest 4 codes(34,56,77,85) - are all three types"
   ]
  },
  {
   "cell_type": "code",
   "execution_count": 24,
   "metadata": {
    "collapsed": false
   },
   "outputs": [
    {
     "data": {
      "text/plain": [
       "center_type\n",
       "TYPE_A    1.290969\n",
       "TYPE_B    1.511555\n",
       "TYPE_C    1.000000\n",
       "Name: op_area, dtype: float64"
      ]
     },
     "execution_count": 24,
     "metadata": {},
     "output_type": "execute_result"
    }
   ],
   "source": [
    "history_center.groupby(['center_type']).op_area.mean()/3.157895 #type b covers most area and c least"
   ]
  },
  {
   "cell_type": "code",
   "execution_count": 25,
   "metadata": {
    "collapsed": false
   },
   "outputs": [
    {
     "data": {
      "text/plain": [
       "region_code\n",
       "35    1.000000\n",
       "23    1.214286\n",
       "85    1.278571\n",
       "34    1.363946\n",
       "77    1.394958\n",
       "93    1.464286\n",
       "56    1.519048\n",
       "71    1.607143\n",
       "Name: op_area, dtype: float64"
      ]
     },
     "execution_count": 25,
     "metadata": {},
     "output_type": "execute_result"
    }
   ],
   "source": [
    "history_center.groupby(['region_code']).op_area.mean().sort_values()/2.8"
   ]
  },
  {
   "cell_type": "code",
   "execution_count": 26,
   "metadata": {
    "collapsed": false
   },
   "outputs": [
    {
     "data": {
      "text/plain": [
       "center_type  region_code\n",
       "TYPE_A       23             3.400000\n",
       "             34             3.990000\n",
       "             35             2.800000\n",
       "             56             4.276471\n",
       "             71             4.500000\n",
       "             77             4.040000\n",
       "             85             3.750000\n",
       "             93             4.100000\n",
       "TYPE_B       34             4.240000\n",
       "             56             5.733333\n",
       "             77             4.133333\n",
       "             85             3.600000\n",
       "TYPE_C       34             3.183333\n",
       "             56             2.928571\n",
       "             77             3.400000\n",
       "             85             3.400000\n",
       "Name: op_area, dtype: float64"
      ]
     },
     "execution_count": 26,
     "metadata": {},
     "output_type": "execute_result"
    }
   ],
   "source": [
    "history_center.groupby(['center_type','region_code']).op_area.mean()"
   ]
  },
  {
   "cell_type": "code",
   "execution_count": 27,
   "metadata": {
    "collapsed": true
   },
   "outputs": [],
   "source": [
    "a1=history_center.groupby(['center_type','region_code'],as_index=False).op_area.mean()\n",
    "a2=history_center.groupby(['center_type'],as_index=False).op_area.mean()\n",
    "a3=pd.merge(a1,a2,how='left',on='center_type')"
   ]
  },
  {
   "cell_type": "code",
   "execution_count": 28,
   "metadata": {
    "collapsed": false
   },
   "outputs": [],
   "source": [
    "a3['ratio']=a3['op_area_x']/a3['op_area_y']"
   ]
  },
  {
   "cell_type": "code",
   "execution_count": 29,
   "metadata": {
    "collapsed": false
   },
   "outputs": [
    {
     "data": {
      "text/html": [
       "<div>\n",
       "<style>\n",
       "    .dataframe thead tr:only-child th {\n",
       "        text-align: right;\n",
       "    }\n",
       "\n",
       "    .dataframe thead th {\n",
       "        text-align: left;\n",
       "    }\n",
       "\n",
       "    .dataframe tbody tr th {\n",
       "        vertical-align: top;\n",
       "    }\n",
       "</style>\n",
       "<table border=\"1\" class=\"dataframe\">\n",
       "  <thead>\n",
       "    <tr style=\"text-align: right;\">\n",
       "      <th></th>\n",
       "      <th>center_type</th>\n",
       "      <th>region_code</th>\n",
       "      <th>op_area_x</th>\n",
       "      <th>op_area_y</th>\n",
       "      <th>ratio</th>\n",
       "    </tr>\n",
       "  </thead>\n",
       "  <tbody>\n",
       "    <tr>\n",
       "      <th>0</th>\n",
       "      <td>TYPE_A</td>\n",
       "      <td>23</td>\n",
       "      <td>3.400000</td>\n",
       "      <td>4.076744</td>\n",
       "      <td>0.833999</td>\n",
       "    </tr>\n",
       "    <tr>\n",
       "      <th>1</th>\n",
       "      <td>TYPE_A</td>\n",
       "      <td>34</td>\n",
       "      <td>3.990000</td>\n",
       "      <td>4.076744</td>\n",
       "      <td>0.978722</td>\n",
       "    </tr>\n",
       "    <tr>\n",
       "      <th>2</th>\n",
       "      <td>TYPE_A</td>\n",
       "      <td>35</td>\n",
       "      <td>2.800000</td>\n",
       "      <td>4.076744</td>\n",
       "      <td>0.686823</td>\n",
       "    </tr>\n",
       "    <tr>\n",
       "      <th>3</th>\n",
       "      <td>TYPE_A</td>\n",
       "      <td>56</td>\n",
       "      <td>4.276471</td>\n",
       "      <td>4.076744</td>\n",
       "      <td>1.048992</td>\n",
       "    </tr>\n",
       "    <tr>\n",
       "      <th>4</th>\n",
       "      <td>TYPE_A</td>\n",
       "      <td>71</td>\n",
       "      <td>4.500000</td>\n",
       "      <td>4.076744</td>\n",
       "      <td>1.103822</td>\n",
       "    </tr>\n",
       "    <tr>\n",
       "      <th>5</th>\n",
       "      <td>TYPE_A</td>\n",
       "      <td>77</td>\n",
       "      <td>4.040000</td>\n",
       "      <td>4.076744</td>\n",
       "      <td>0.990987</td>\n",
       "    </tr>\n",
       "    <tr>\n",
       "      <th>6</th>\n",
       "      <td>TYPE_A</td>\n",
       "      <td>85</td>\n",
       "      <td>3.750000</td>\n",
       "      <td>4.076744</td>\n",
       "      <td>0.919852</td>\n",
       "    </tr>\n",
       "    <tr>\n",
       "      <th>7</th>\n",
       "      <td>TYPE_A</td>\n",
       "      <td>93</td>\n",
       "      <td>4.100000</td>\n",
       "      <td>4.076744</td>\n",
       "      <td>1.005705</td>\n",
       "    </tr>\n",
       "    <tr>\n",
       "      <th>8</th>\n",
       "      <td>TYPE_B</td>\n",
       "      <td>34</td>\n",
       "      <td>4.240000</td>\n",
       "      <td>4.773333</td>\n",
       "      <td>0.888268</td>\n",
       "    </tr>\n",
       "    <tr>\n",
       "      <th>9</th>\n",
       "      <td>TYPE_B</td>\n",
       "      <td>56</td>\n",
       "      <td>5.733333</td>\n",
       "      <td>4.773333</td>\n",
       "      <td>1.201117</td>\n",
       "    </tr>\n",
       "    <tr>\n",
       "      <th>10</th>\n",
       "      <td>TYPE_B</td>\n",
       "      <td>77</td>\n",
       "      <td>4.133333</td>\n",
       "      <td>4.773333</td>\n",
       "      <td>0.865922</td>\n",
       "    </tr>\n",
       "    <tr>\n",
       "      <th>11</th>\n",
       "      <td>TYPE_B</td>\n",
       "      <td>85</td>\n",
       "      <td>3.600000</td>\n",
       "      <td>4.773333</td>\n",
       "      <td>0.754190</td>\n",
       "    </tr>\n",
       "    <tr>\n",
       "      <th>12</th>\n",
       "      <td>TYPE_C</td>\n",
       "      <td>34</td>\n",
       "      <td>3.183333</td>\n",
       "      <td>3.157895</td>\n",
       "      <td>1.008056</td>\n",
       "    </tr>\n",
       "    <tr>\n",
       "      <th>13</th>\n",
       "      <td>TYPE_C</td>\n",
       "      <td>56</td>\n",
       "      <td>2.928571</td>\n",
       "      <td>3.157895</td>\n",
       "      <td>0.927381</td>\n",
       "    </tr>\n",
       "    <tr>\n",
       "      <th>14</th>\n",
       "      <td>TYPE_C</td>\n",
       "      <td>77</td>\n",
       "      <td>3.400000</td>\n",
       "      <td>3.157895</td>\n",
       "      <td>1.076667</td>\n",
       "    </tr>\n",
       "    <tr>\n",
       "      <th>15</th>\n",
       "      <td>TYPE_C</td>\n",
       "      <td>85</td>\n",
       "      <td>3.400000</td>\n",
       "      <td>3.157895</td>\n",
       "      <td>1.076667</td>\n",
       "    </tr>\n",
       "  </tbody>\n",
       "</table>\n",
       "</div>"
      ],
      "text/plain": [
       "   center_type  region_code  op_area_x  op_area_y     ratio\n",
       "0       TYPE_A           23   3.400000   4.076744  0.833999\n",
       "1       TYPE_A           34   3.990000   4.076744  0.978722\n",
       "2       TYPE_A           35   2.800000   4.076744  0.686823\n",
       "3       TYPE_A           56   4.276471   4.076744  1.048992\n",
       "4       TYPE_A           71   4.500000   4.076744  1.103822\n",
       "5       TYPE_A           77   4.040000   4.076744  0.990987\n",
       "6       TYPE_A           85   3.750000   4.076744  0.919852\n",
       "7       TYPE_A           93   4.100000   4.076744  1.005705\n",
       "8       TYPE_B           34   4.240000   4.773333  0.888268\n",
       "9       TYPE_B           56   5.733333   4.773333  1.201117\n",
       "10      TYPE_B           77   4.133333   4.773333  0.865922\n",
       "11      TYPE_B           85   3.600000   4.773333  0.754190\n",
       "12      TYPE_C           34   3.183333   3.157895  1.008056\n",
       "13      TYPE_C           56   2.928571   3.157895  0.927381\n",
       "14      TYPE_C           77   3.400000   3.157895  1.076667\n",
       "15      TYPE_C           85   3.400000   3.157895  1.076667"
      ]
     },
     "execution_count": 29,
     "metadata": {},
     "output_type": "execute_result"
    }
   ],
   "source": [
    "a3"
   ]
  },
  {
   "cell_type": "markdown",
   "metadata": {},
   "source": [
    "## trends with train data"
   ]
  },
  {
   "cell_type": "code",
   "execution_count": 30,
   "metadata": {
    "collapsed": false
   },
   "outputs": [
    {
     "data": {
      "text/plain": [
       "id                         int64\n",
       "week                       int64\n",
       "center_id                  int64\n",
       "meal_id                    int64\n",
       "checkout_price           float64\n",
       "base_price               float64\n",
       "emailer_for_promotion      int64\n",
       "homepage_featured          int64\n",
       "num_orders                 int64\n",
       "dtype: object"
      ]
     },
     "execution_count": 30,
     "metadata": {},
     "output_type": "execute_result"
    }
   ],
   "source": [
    "train_data.dtypes"
   ]
  },
  {
   "cell_type": "code",
   "execution_count": 31,
   "metadata": {
    "collapsed": false
   },
   "outputs": [
    {
     "data": {
      "text/plain": [
       "center_id        int64\n",
       "city_code        int64\n",
       "region_code      int64\n",
       "center_type     object\n",
       "op_area        float64\n",
       "dtype: object"
      ]
     },
     "execution_count": 31,
     "metadata": {},
     "output_type": "execute_result"
    }
   ],
   "source": [
    "history_center.dtypes"
   ]
  },
  {
   "cell_type": "code",
   "execution_count": 32,
   "metadata": {
    "collapsed": false
   },
   "outputs": [
    {
     "data": {
      "text/plain": [
       "meal_id      int64\n",
       "category    object\n",
       "cuisine     object\n",
       "dtype: object"
      ]
     },
     "execution_count": 32,
     "metadata": {},
     "output_type": "execute_result"
    }
   ],
   "source": [
    "history_meals.dtypes"
   ]
  },
  {
   "cell_type": "code",
   "execution_count": 33,
   "metadata": {
    "collapsed": true
   },
   "outputs": [],
   "source": [
    "mj1=pd.merge(train_data,history_meals,how='left',on='meal_id')"
   ]
  },
  {
   "cell_type": "code",
   "execution_count": 34,
   "metadata": {
    "collapsed": true
   },
   "outputs": [],
   "source": [
    "total_train=pd.merge(mj1,history_center,how='left',on='center_id')"
   ]
  },
  {
   "cell_type": "code",
   "execution_count": 35,
   "metadata": {
    "collapsed": false
   },
   "outputs": [
    {
     "data": {
      "text/plain": [
       "id                       0\n",
       "week                     0\n",
       "center_id                0\n",
       "meal_id                  0\n",
       "checkout_price           0\n",
       "base_price               0\n",
       "emailer_for_promotion    0\n",
       "homepage_featured        0\n",
       "num_orders               0\n",
       "category                 0\n",
       "cuisine                  0\n",
       "city_code                0\n",
       "region_code              0\n",
       "center_type              0\n",
       "op_area                  0\n",
       "dtype: int64"
      ]
     },
     "execution_count": 35,
     "metadata": {},
     "output_type": "execute_result"
    }
   ],
   "source": [
    "total_train.isnull().sum()"
   ]
  },
  {
   "cell_type": "code",
   "execution_count": 65,
   "metadata": {
    "collapsed": true
   },
   "outputs": [],
   "source": [
    "total_train.to_csv('overall_train.csv')"
   ]
  },
  {
   "cell_type": "code",
   "execution_count": 36,
   "metadata": {
    "collapsed": false
   },
   "outputs": [
    {
     "data": {
      "text/plain": [
       "456548"
      ]
     },
     "execution_count": 36,
     "metadata": {},
     "output_type": "execute_result"
    }
   ],
   "source": [
    "train_data.shape[0]"
   ]
  },
  {
   "cell_type": "code",
   "execution_count": 37,
   "metadata": {
    "collapsed": false
   },
   "outputs": [
    {
     "name": "stdout",
     "output_type": "stream",
     "text": [
      "id  :  456548\n",
      "week  :  145\n",
      "center_id  :  77\n",
      "meal_id  :  51\n",
      "checkout_price  :  1992\n",
      "base_price  :  1907\n",
      "emailer_for_promotion  :  2\n",
      "homepage_featured  :  2\n",
      "num_orders  :  1250\n"
     ]
    }
   ],
   "source": [
    "get_unique(train_data)"
   ]
  },
  {
   "cell_type": "code",
   "execution_count": 38,
   "metadata": {
    "collapsed": false
   },
   "outputs": [],
   "source": [
    "test_data=pd.read_csv(r'E:\\hackathons\\test_QoiMO9B.csv')"
   ]
  },
  {
   "cell_type": "code",
   "execution_count": 39,
   "metadata": {
    "collapsed": false
   },
   "outputs": [
    {
     "data": {
      "text/plain": [
       "id                       0\n",
       "week                     0\n",
       "center_id                0\n",
       "meal_id                  0\n",
       "checkout_price           0\n",
       "base_price               0\n",
       "emailer_for_promotion    0\n",
       "homepage_featured        0\n",
       "dtype: int64"
      ]
     },
     "execution_count": 39,
     "metadata": {},
     "output_type": "execute_result"
    }
   ],
   "source": [
    "test_data.isnull().sum()"
   ]
  },
  {
   "cell_type": "code",
   "execution_count": 40,
   "metadata": {
    "collapsed": false
   },
   "outputs": [
    {
     "data": {
      "text/plain": [
       "(32573, 8)"
      ]
     },
     "execution_count": 40,
     "metadata": {},
     "output_type": "execute_result"
    }
   ],
   "source": [
    "test_data.shape"
   ]
  },
  {
   "cell_type": "code",
   "execution_count": 41,
   "metadata": {
    "collapsed": false
   },
   "outputs": [
    {
     "name": "stdout",
     "output_type": "stream",
     "text": [
      "id  :  32573\n",
      "week  :  10\n",
      "center_id  :  77\n",
      "meal_id  :  51\n",
      "checkout_price  :  1397\n",
      "base_price  :  1179\n",
      "emailer_for_promotion  :  2\n",
      "homepage_featured  :  2\n"
     ]
    }
   ],
   "source": [
    "get_unique(test_data)"
   ]
  },
  {
   "cell_type": "code",
   "execution_count": 42,
   "metadata": {
    "collapsed": false
   },
   "outputs": [
    {
     "data": {
      "text/html": [
       "<div>\n",
       "<style>\n",
       "    .dataframe thead tr:only-child th {\n",
       "        text-align: right;\n",
       "    }\n",
       "\n",
       "    .dataframe thead th {\n",
       "        text-align: left;\n",
       "    }\n",
       "\n",
       "    .dataframe tbody tr th {\n",
       "        vertical-align: top;\n",
       "    }\n",
       "</style>\n",
       "<table border=\"1\" class=\"dataframe\">\n",
       "  <thead>\n",
       "    <tr style=\"text-align: right;\">\n",
       "      <th></th>\n",
       "      <th>emailer_for_promotion</th>\n",
       "      <th>num_orders</th>\n",
       "    </tr>\n",
       "  </thead>\n",
       "  <tbody>\n",
       "    <tr>\n",
       "      <th>0</th>\n",
       "      <td>0</td>\n",
       "      <td>229.262883</td>\n",
       "    </tr>\n",
       "    <tr>\n",
       "      <th>1</th>\n",
       "      <td>1</td>\n",
       "      <td>631.097544</td>\n",
       "    </tr>\n",
       "  </tbody>\n",
       "</table>\n",
       "</div>"
      ],
      "text/plain": [
       "   emailer_for_promotion  num_orders\n",
       "0                      0  229.262883\n",
       "1                      1  631.097544"
      ]
     },
     "execution_count": 42,
     "metadata": {},
     "output_type": "execute_result"
    }
   ],
   "source": [
    "total_train.groupby(['emailer_for_promotion'],as_index=False).num_orders.mean()"
   ]
  },
  {
   "cell_type": "code",
   "execution_count": 43,
   "metadata": {
    "collapsed": false
   },
   "outputs": [
    {
     "data": {
      "text/html": [
       "<div>\n",
       "<style>\n",
       "    .dataframe thead tr:only-child th {\n",
       "        text-align: right;\n",
       "    }\n",
       "\n",
       "    .dataframe thead th {\n",
       "        text-align: left;\n",
       "    }\n",
       "\n",
       "    .dataframe tbody tr th {\n",
       "        vertical-align: top;\n",
       "    }\n",
       "</style>\n",
       "<table border=\"1\" class=\"dataframe\">\n",
       "  <thead>\n",
       "    <tr style=\"text-align: right;\">\n",
       "      <th></th>\n",
       "      <th>homepage_featured</th>\n",
       "      <th>num_orders</th>\n",
       "    </tr>\n",
       "  </thead>\n",
       "  <tbody>\n",
       "    <tr>\n",
       "      <th>0</th>\n",
       "      <td>0</td>\n",
       "      <td>221.050040</td>\n",
       "    </tr>\n",
       "    <tr>\n",
       "      <th>1</th>\n",
       "      <td>1</td>\n",
       "      <td>594.884786</td>\n",
       "    </tr>\n",
       "  </tbody>\n",
       "</table>\n",
       "</div>"
      ],
      "text/plain": [
       "   homepage_featured  num_orders\n",
       "0                  0  221.050040\n",
       "1                  1  594.884786"
      ]
     },
     "execution_count": 43,
     "metadata": {},
     "output_type": "execute_result"
    }
   ],
   "source": [
    "total_train.groupby(['homepage_featured'],as_index=False).num_orders.mean()"
   ]
  },
  {
   "cell_type": "code",
   "execution_count": 44,
   "metadata": {
    "collapsed": false
   },
   "outputs": [
    {
     "data": {
      "text/html": [
       "<div>\n",
       "<style>\n",
       "    .dataframe thead tr:only-child th {\n",
       "        text-align: right;\n",
       "    }\n",
       "\n",
       "    .dataframe thead th {\n",
       "        text-align: left;\n",
       "    }\n",
       "\n",
       "    .dataframe tbody tr th {\n",
       "        vertical-align: top;\n",
       "    }\n",
       "</style>\n",
       "<table border=\"1\" class=\"dataframe\">\n",
       "  <thead>\n",
       "    <tr style=\"text-align: right;\">\n",
       "      <th></th>\n",
       "      <th>emailer_for_promotion</th>\n",
       "      <th>homepage_featured</th>\n",
       "      <th>num_orders</th>\n",
       "    </tr>\n",
       "  </thead>\n",
       "  <tbody>\n",
       "    <tr>\n",
       "      <th>0</th>\n",
       "      <td>0</td>\n",
       "      <td>0</td>\n",
       "      <td>211.416983</td>\n",
       "    </tr>\n",
       "    <tr>\n",
       "      <th>1</th>\n",
       "      <td>0</td>\n",
       "      <td>1</td>\n",
       "      <td>455.876208</td>\n",
       "    </tr>\n",
       "    <tr>\n",
       "      <th>2</th>\n",
       "      <td>1</td>\n",
       "      <td>0</td>\n",
       "      <td>431.277625</td>\n",
       "    </tr>\n",
       "    <tr>\n",
       "      <th>3</th>\n",
       "      <td>1</td>\n",
       "      <td>1</td>\n",
       "      <td>816.246061</td>\n",
       "    </tr>\n",
       "  </tbody>\n",
       "</table>\n",
       "</div>"
      ],
      "text/plain": [
       "   emailer_for_promotion  homepage_featured  num_orders\n",
       "0                      0                  0  211.416983\n",
       "1                      0                  1  455.876208\n",
       "2                      1                  0  431.277625\n",
       "3                      1                  1  816.246061"
      ]
     },
     "execution_count": 44,
     "metadata": {},
     "output_type": "execute_result"
    }
   ],
   "source": [
    "total_train.groupby(['emailer_for_promotion','homepage_featured'],as_index=False).num_orders.mean()"
   ]
  },
  {
   "cell_type": "code",
   "execution_count": 45,
   "metadata": {
    "collapsed": true
   },
   "outputs": [],
   "source": [
    "total_train['tax_plus_delivery_minus_discount']=total_train['checkout_price']-total_train['base_price']"
   ]
  },
  {
   "cell_type": "code",
   "execution_count": 46,
   "metadata": {
    "collapsed": false
   },
   "outputs": [
    {
     "data": {
      "text/html": [
       "<div>\n",
       "<style>\n",
       "    .dataframe thead tr:only-child th {\n",
       "        text-align: right;\n",
       "    }\n",
       "\n",
       "    .dataframe thead th {\n",
       "        text-align: left;\n",
       "    }\n",
       "\n",
       "    .dataframe tbody tr th {\n",
       "        vertical-align: top;\n",
       "    }\n",
       "</style>\n",
       "<table border=\"1\" class=\"dataframe\">\n",
       "  <thead>\n",
       "    <tr style=\"text-align: right;\">\n",
       "      <th></th>\n",
       "      <th>checkout_price</th>\n",
       "      <th>base_price</th>\n",
       "      <th>tax_plus_delivery_minus_discount</th>\n",
       "    </tr>\n",
       "  </thead>\n",
       "  <tbody>\n",
       "    <tr>\n",
       "      <th>count</th>\n",
       "      <td>456548.000000</td>\n",
       "      <td>456548.000000</td>\n",
       "      <td>456548.000000</td>\n",
       "    </tr>\n",
       "    <tr>\n",
       "      <th>mean</th>\n",
       "      <td>332.238933</td>\n",
       "      <td>354.156627</td>\n",
       "      <td>-21.917695</td>\n",
       "    </tr>\n",
       "    <tr>\n",
       "      <th>std</th>\n",
       "      <td>152.939723</td>\n",
       "      <td>160.715914</td>\n",
       "      <td>48.495857</td>\n",
       "    </tr>\n",
       "    <tr>\n",
       "      <th>min</th>\n",
       "      <td>2.970000</td>\n",
       "      <td>55.350000</td>\n",
       "      <td>-561.600000</td>\n",
       "    </tr>\n",
       "    <tr>\n",
       "      <th>25%</th>\n",
       "      <td>228.950000</td>\n",
       "      <td>243.500000</td>\n",
       "      <td>-16.520000</td>\n",
       "    </tr>\n",
       "    <tr>\n",
       "      <th>50%</th>\n",
       "      <td>296.820000</td>\n",
       "      <td>310.460000</td>\n",
       "      <td>-1.000000</td>\n",
       "    </tr>\n",
       "    <tr>\n",
       "      <th>75%</th>\n",
       "      <td>445.230000</td>\n",
       "      <td>458.870000</td>\n",
       "      <td>1.000000</td>\n",
       "    </tr>\n",
       "    <tr>\n",
       "      <th>max</th>\n",
       "      <td>866.270000</td>\n",
       "      <td>866.270000</td>\n",
       "      <td>185.300000</td>\n",
       "    </tr>\n",
       "  </tbody>\n",
       "</table>\n",
       "</div>"
      ],
      "text/plain": [
       "       checkout_price     base_price  tax_plus_delivery_minus_discount\n",
       "count   456548.000000  456548.000000                     456548.000000\n",
       "mean       332.238933     354.156627                        -21.917695\n",
       "std        152.939723     160.715914                         48.495857\n",
       "min          2.970000      55.350000                       -561.600000\n",
       "25%        228.950000     243.500000                        -16.520000\n",
       "50%        296.820000     310.460000                         -1.000000\n",
       "75%        445.230000     458.870000                          1.000000\n",
       "max        866.270000     866.270000                        185.300000"
      ]
     },
     "execution_count": 46,
     "metadata": {},
     "output_type": "execute_result"
    }
   ],
   "source": [
    "total_train[['checkout_price','base_price','tax_plus_delivery_minus_discount']].describe()"
   ]
  },
  {
   "cell_type": "code",
   "execution_count": 47,
   "metadata": {
    "collapsed": true
   },
   "outputs": [],
   "source": [
    "total_train['actual_discount']=total_train['base_price']-total_train['checkout_price']"
   ]
  },
  {
   "cell_type": "code",
   "execution_count": 48,
   "metadata": {
    "collapsed": false
   },
   "outputs": [
    {
     "data": {
      "text/plain": [
       "count    456548.000000\n",
       "mean         21.917695\n",
       "std          48.495857\n",
       "min        -185.300000\n",
       "25%          -1.000000\n",
       "50%           1.000000\n",
       "75%          16.520000\n",
       "max         561.600000\n",
       "Name: actual_discount, dtype: float64"
      ]
     },
     "execution_count": 48,
     "metadata": {},
     "output_type": "execute_result"
    }
   ],
   "source": [
    "total_train['actual_discount'].describe()"
   ]
  },
  {
   "cell_type": "code",
   "execution_count": null,
   "metadata": {
    "collapsed": true
   },
   "outputs": [],
   "source": [
    "# general discount is b/w -30 rs loss to 70 rs"
   ]
  },
  {
   "cell_type": "markdown",
   "metadata": {},
   "source": [
    "## dividing in train, validation and test set"
   ]
  },
  {
   "cell_type": "code",
   "execution_count": 49,
   "metadata": {
    "collapsed": false
   },
   "outputs": [
    {
     "data": {
      "text/plain": [
       "456548"
      ]
     },
     "execution_count": 49,
     "metadata": {},
     "output_type": "execute_result"
    }
   ],
   "source": [
    "train_data.shape[0]#(week 1 to 145) 145 week"
   ]
  },
  {
   "cell_type": "code",
   "execution_count": 50,
   "metadata": {
    "collapsed": false
   },
   "outputs": [
    {
     "data": {
      "text/plain": [
       "32573"
      ]
     },
     "execution_count": 50,
     "metadata": {},
     "output_type": "execute_result"
    }
   ],
   "source": [
    "test_data.shape[0]#(week 146-155)10 week"
   ]
  },
  {
   "cell_type": "code",
   "execution_count": null,
   "metadata": {
    "collapsed": true
   },
   "outputs": [],
   "source": [
    "# train - 125 weeks\n",
    "# validation - 126-138 - 13 weeks\n",
    "# test - 139 - 145 - 7 weeks"
   ]
  },
  {
   "cell_type": "code",
   "execution_count": 50,
   "metadata": {
    "collapsed": true
   },
   "outputs": [],
   "source": [
    "final_train=train_data[train_data['week']<=125]"
   ]
  },
  {
   "cell_type": "code",
   "execution_count": 51,
   "metadata": {
    "collapsed": false
   },
   "outputs": [
    {
     "data": {
      "text/plain": [
       "390907"
      ]
     },
     "execution_count": 51,
     "metadata": {},
     "output_type": "execute_result"
    }
   ],
   "source": [
    "final_train.shape[0]"
   ]
  },
  {
   "cell_type": "code",
   "execution_count": 52,
   "metadata": {
    "collapsed": true
   },
   "outputs": [],
   "source": [
    "validation_set=train_data[(train_data['week']>125)&(train_data['week']<139)]"
   ]
  },
  {
   "cell_type": "code",
   "execution_count": 53,
   "metadata": {
    "collapsed": false
   },
   "outputs": [
    {
     "data": {
      "text/plain": [
       "42654"
      ]
     },
     "execution_count": 53,
     "metadata": {},
     "output_type": "execute_result"
    }
   ],
   "source": [
    "validation_set.shape[0]"
   ]
  },
  {
   "cell_type": "code",
   "execution_count": 54,
   "metadata": {
    "collapsed": false
   },
   "outputs": [
    {
     "data": {
      "text/plain": [
       "13"
      ]
     },
     "execution_count": 54,
     "metadata": {},
     "output_type": "execute_result"
    }
   ],
   "source": [
    "validation_set.week.nunique()"
   ]
  },
  {
   "cell_type": "code",
   "execution_count": 55,
   "metadata": {
    "collapsed": true
   },
   "outputs": [],
   "source": [
    "test_set=train_data[train_data['week']>=139]"
   ]
  },
  {
   "cell_type": "code",
   "execution_count": 56,
   "metadata": {
    "collapsed": false
   },
   "outputs": [
    {
     "data": {
      "text/plain": [
       "22987"
      ]
     },
     "execution_count": 56,
     "metadata": {},
     "output_type": "execute_result"
    }
   ],
   "source": [
    "test_set.shape[0]"
   ]
  },
  {
   "cell_type": "code",
   "execution_count": 57,
   "metadata": {
    "collapsed": false
   },
   "outputs": [
    {
     "data": {
      "text/plain": [
       "7"
      ]
     },
     "execution_count": 57,
     "metadata": {},
     "output_type": "execute_result"
    }
   ],
   "source": [
    "test_set.week.nunique()"
   ]
  },
  {
   "cell_type": "code",
   "execution_count": null,
   "metadata": {
    "collapsed": true
   },
   "outputs": [],
   "source": [
    "## after dividing train,test,validation set\n",
    "\"\"\"\n",
    "Now \n",
    "    train -125 weeks(final_train)\n",
    "    validation - 13 weeks(validation_set)\n",
    "    test - 7 weeks(test_set)\n",
    "    acutal_test - 10 weeks(train_data)\n",
    "    history_meal,history_center - historical datasets(completely used everywhere)\n",
    "\"\"\""
   ]
  },
  {
   "cell_type": "markdown",
   "metadata": {},
   "source": [
    "## baseline"
   ]
  },
  {
   "cell_type": "code",
   "execution_count": 58,
   "metadata": {
    "collapsed": false
   },
   "outputs": [
    {
     "data": {
      "text/plain": [
       "264.65237255920204"
      ]
     },
     "execution_count": 58,
     "metadata": {},
     "output_type": "execute_result"
    }
   ],
   "source": [
    "## base score\n",
    "final_train.num_orders.mean()"
   ]
  },
  {
   "cell_type": "code",
   "execution_count": 59,
   "metadata": {
    "collapsed": true
   },
   "outputs": [],
   "source": [
    "predsss=np.full((22987,),final_train.num_orders.mean())"
   ]
  },
  {
   "cell_type": "code",
   "execution_count": 60,
   "metadata": {
    "collapsed": false
   },
   "outputs": [
    {
     "data": {
      "text/plain": [
       "(22987,)"
      ]
     },
     "execution_count": 60,
     "metadata": {},
     "output_type": "execute_result"
    }
   ],
   "source": [
    "test_set['num_orders'].shape"
   ]
  },
  {
   "cell_type": "code",
   "execution_count": 61,
   "metadata": {
    "collapsed": false
   },
   "outputs": [
    {
     "data": {
      "text/plain": [
       "1.8766457662137499"
      ]
     },
     "execution_count": 61,
     "metadata": {},
     "output_type": "execute_result"
    }
   ],
   "source": [
    "mean_squared_log_error(predsss,test_set['num_orders'])"
   ]
  },
  {
   "cell_type": "code",
   "execution_count": null,
   "metadata": {
    "collapsed": true
   },
   "outputs": [],
   "source": [
    "# checking - \n",
    "# Internal\n",
    "# train = final_train\n",
    "# test = Validation_set\n",
    "\n",
    "\n",
    "# to check your score\n",
    "# train = final_train+validation\n",
    "#test = test_set\n",
    "\n",
    "#for submission\n",
    "# train = final_train+validation_set+test_set\n",
    "#test = test_data"
   ]
  },
  {
   "cell_type": "code",
   "execution_count": null,
   "metadata": {
    "collapsed": true
   },
   "outputs": [],
   "source": [
    "# initialize"
   ]
  },
  {
   "cell_type": "code",
   "execution_count": 365,
   "metadata": {
    "collapsed": true
   },
   "outputs": [],
   "source": [
    "train = train_data\n",
    "#train=train_data[train_data['week']<136]\n",
    "test= test_data\n",
    "#test=train_data[train_data['week']>=136]"
   ]
  },
  {
   "cell_type": "code",
   "execution_count": 366,
   "metadata": {
    "collapsed": false
   },
   "outputs": [
    {
     "data": {
      "text/plain": [
       "(456548, 11)"
      ]
     },
     "execution_count": 366,
     "metadata": {},
     "output_type": "execute_result"
    }
   ],
   "source": [
    "train.shape"
   ]
  },
  {
   "cell_type": "code",
   "execution_count": 367,
   "metadata": {
    "collapsed": false
   },
   "outputs": [
    {
     "data": {
      "text/plain": [
       "(32573, 10)"
      ]
     },
     "execution_count": 367,
     "metadata": {},
     "output_type": "execute_result"
    }
   ],
   "source": [
    "test.shape"
   ]
  },
  {
   "cell_type": "markdown",
   "metadata": {},
   "source": [
    "## feature creation"
   ]
  },
  {
   "cell_type": "code",
   "execution_count": 368,
   "metadata": {
    "collapsed": true
   },
   "outputs": [],
   "source": [
    "from sklearn.ensemble import RandomForestRegressor"
   ]
  },
  {
   "cell_type": "code",
   "execution_count": 369,
   "metadata": {
    "collapsed": false
   },
   "outputs": [],
   "source": [
    "# direct features\n",
    "train['actual_discount']=train['base_price']-train['checkout_price']\n",
    "test['actual_discount']=test['base_price']-test['checkout_price']"
   ]
  },
  {
   "cell_type": "code",
   "execution_count": 370,
   "metadata": {
    "collapsed": true
   },
   "outputs": [],
   "source": [
    "from sklearn.cross_validation import KFold\n",
    "# for regression rather then target do stratified for class label"
   ]
  },
  {
   "cell_type": "code",
   "execution_count": null,
   "metadata": {
    "collapsed": true
   },
   "outputs": [],
   "source": []
  },
  {
   "cell_type": "code",
   "execution_count": 371,
   "metadata": {
    "collapsed": true
   },
   "outputs": [],
   "source": [
    "def get_history(x):\n",
    "    return (x.mean())\n",
    "\n",
    "def get_group_column(z,top):\n",
    "    return z.apply(lambda x: x if (x in top) else 'others')\n",
    "\n",
    "def preprocessing(train,test,columns,noise_threshold):\n",
    "    for col in columns:\n",
    "        train[col]=train[col].astype(str)\n",
    "        all_values = train[col].value_counts()\n",
    "        top_values=all_values[all_values>=noise_threshold].index.tolist()\n",
    "        train[col+'_grouped']=get_group_column(train[col],top_values)\n",
    "        if len(test)!=0:\n",
    "            test[col]=test[col].astype(str)\n",
    "            test[col+'_grouped']=get_group_column(test[col],top_values)\n",
    "    return train,test\n",
    "def target_encoding(train,test,columns,target):\n",
    "    for col in columns:\n",
    "        history_table=train.groupby([col+'_grouped'],as_index=False).agg({target:get_history})\n",
    "        if len(test)!=0:\n",
    "            test[col+'_history']=test[col+'_grouped'].map(history_table.set_index(col+'_grouped')[target])\n",
    "        y_train = train[col+'_grouped'].values\n",
    "        skf = StratifiedKFold(y_train,7,shuffle=True,random_state=123)\n",
    "        for tr_ind,val_ind in skf:\n",
    "            X_tr,X_val = train.iloc[tr_ind],train.iloc[val_ind]\n",
    "            means = X_val[col+'_grouped'].map(X_tr.groupby(col+'_grouped')[target].mean())\n",
    "            X_val['_mean_target_'] = means\n",
    "            train.loc[val_ind,col+'_history']  =X_val['_mean_target_']\n",
    "    return train,test"
   ]
  },
  {
   "cell_type": "code",
   "execution_count": 372,
   "metadata": {
    "collapsed": true
   },
   "outputs": [],
   "source": [
    "def target_encoding2(train,test,columns,target):\n",
    "    for col1,col2 in columns:\n",
    "        history_table=train.groupby([col1+'_grouped',col2+'_grouped'],as_index=False).agg({target:get_history})\n",
    "        history_table.columns=[col1+'_grouped',col2+'_grouped',col1+'_'+col2+'_history']\n",
    "        if len(test)!=0:\n",
    "            test=pd.merge(test,history_table,how='left',on=[col1+'_grouped',col2+'_grouped'])\n",
    "        y_train = train[col1+'_grouped'].values\n",
    "        skf = StratifiedKFold(y_train,5,shuffle=True,random_state=123)\n",
    "        for tr_ind,val_ind in skf:\n",
    "            X_tr,X_val = train.iloc[tr_ind],train.iloc[val_ind]\n",
    "            history_table_temp=X_tr.groupby([col1+'_grouped',col2+'_grouped'],as_index=False).agg({target:get_history})\n",
    "            history_table_temp.columns=[col1+'_grouped',col2+'_grouped',col1+'_'+col2+'_history']\n",
    "            means=pd.merge(X_val[[col1+'_grouped',col2+'_grouped']],history_table_temp,how='left',on=[col1+'_grouped',col2+'_grouped'])[col1+'_'+col2+'_history'].values\n",
    "            X_val['_mean_target_'] = means\n",
    "            train.loc[val_ind,col1+'_'+col2+'_history']  =X_val['_mean_target_']\n",
    "    return train,test"
   ]
  },
  {
   "cell_type": "code",
   "execution_count": 373,
   "metadata": {
    "collapsed": true
   },
   "outputs": [],
   "source": [
    "def target_encoding3(train,test,columns,target):\n",
    "    for col1,col2,col3 in columns:\n",
    "        train['index_of_3']=train[col1+'_grouped']+'|'+train[col2+'_grouped']+'|'+train[col3+'_grouped']\n",
    "        history_table=train.groupby([col1+'_grouped',col2+'_grouped',col3+'_grouped'],as_index=False).agg({target:get_history})\n",
    "        history_table.columns=[col1+'_grouped',col2+'_grouped',col3+'_grouped',col1+'_'+col2+'_'+col3+'_history']\n",
    "        if len(test)!=0:\n",
    "            test=pd.merge(test,history_table,how='left',on=[col1+'_grouped',col2+'_grouped',col3+'_grouped'])\n",
    "        y_train = train['index_of_3'].values\n",
    "        skf = StratifiedKFold(y_train,4,shuffle=True,random_state=123)\n",
    "        for tr_ind,val_ind in skf:\n",
    "            X_tr,X_val = train.iloc[tr_ind],train.iloc[val_ind]\n",
    "            history_table_temp=X_tr.groupby([col1+'_grouped',col2+'_grouped',col3+'_grouped'],as_index=False).agg({target:get_history})\n",
    "            history_table_temp.columns=[col1+'_grouped',col2+'_grouped',col3+'_grouped',col1+'_'+col2+'_'+col3+'_history']\n",
    "            means = pd.merge(X_val[[col1+'_grouped',col2+'_grouped',col3+'_grouped']],history_table_temp,how='left',on=[col1+'_grouped',col2+'_grouped',col3+'_grouped'])[col1+'_'+col2+'_'+col3+'_history']\n",
    "            X_val['_mean_target_'] = means\n",
    "            train.loc[val_ind,col1+'_'+col2+'_'+col3+'_history']  =X_val['_mean_target_']\n",
    "    return train,test"
   ]
  },
  {
   "cell_type": "code",
   "execution_count": 374,
   "metadata": {
    "collapsed": false
   },
   "outputs": [],
   "source": [
    "def two_level_target_encoding(train,test,level1,level2,target,unique_id,noise_threshold,get_rank):\n",
    "    multi_level=train.groupby([level1,level2]).agg({target:'sum',unique_id:'count'}).sort_values(unique_id,ascending=False)\n",
    "    multi_level.reset_index(inplace=True)\n",
    "    multi_level.groupby([level1,level2]).agg({target:'first',unique_id:'first'})\n",
    "    multi_level.reset_index(inplace=True)\n",
    "    group_count=train.groupby([level1]).agg({unique_id:'count'})\n",
    "    group_count.reset_index(inplace=True)\n",
    "    group_count.columns=[level1,'total_count']\n",
    "    final_level=pd.merge(multi_level,group_count,how='left',on=level1)\n",
    "    x=final_level.groupby([level1])\n",
    "    u = list(x.groups.keys())\n",
    "    final=pd.DataFrame()\n",
    "    for i in u:\n",
    "        df=x.get_group(i)\n",
    "        df['cumsum'] = df[unique_id].cumsum()\n",
    "        df['total_count'] = (0.90*df['total_count'])-df[unique_id]\n",
    "        df['label']=df[level2].astype(str)\n",
    "        #if (df.ix[df['total_count'] < 0, :].shape[0])> 0:\n",
    "        #    df.ix[df['total_count']<0,:]=df.ix[df['total_count']<0,:].set_value(df.loc[df['total_count']<0,'total_count'].index[0],'total_count',0.1)\n",
    "        df.ix[df[unique_id]<noise_threshold,:]=df.ix[df[unique_id]<noise_threshold,:].set_value(df.loc[df[unique_id]<noise_threshold,unique_id].index,'total_count',-0.1)\n",
    "        df['history']=df[target]/df[unique_id]\n",
    "        df.loc[df['total_count']<0,'label']='others'\n",
    "        if len(df.loc[df['total_count']<0,'history'])!=0:\n",
    "            df.loc[df['total_count']<0,'history']=((df[df['total_count']<0][target].sum())/(df[df['total_count']<0][unique_id].sum()))\n",
    "        df.sort_values('history',ascending=False,inplace=True)\n",
    "        if get_rank:\n",
    "            df['rank']=df['history'].rank(ascending=False,method='dense')\n",
    "        else:\n",
    "            df['rank']=df['history']\n",
    "        df=df[[level1,level2,'label','rank']]\n",
    "        final=pd.concat([final,df])\n",
    "    if get_rank:\n",
    "        final.columns=[level1,level2,level1+'_'+level2+'_label',level1+'_'+level2+'_rank']\n",
    "    else:\n",
    "        final.columns=[level1,level2,level1+'_'+level2+'_label',level1+'_'+level2+'_history']\n",
    "    final[level1]=final[level1].astype(str)\n",
    "    final[level2]=final[level2].astype(str)\n",
    "    train[level1]=train[level1].astype(str)\n",
    "    train[level2]=train[level2].astype(str)\n",
    "    train=pd.merge(train,final,how='left',on=[level1,level2])\n",
    "    test[level1]=test[level1].astype(str)\n",
    "    test[level2]=test[level2].astype(str)\n",
    "    test=pd.merge(test,final,how='left',on=[level1,level2])\n",
    "    if get_rank:\n",
    "        del train[level1+'_'+level2+'_rank']\n",
    "        del test[level1+'_'+level2+'_rank']\n",
    "    else:\n",
    "        del train[level1+'_'+level2+'_history']\n",
    "        del test[level1+'_'+level2+'_history']\n",
    "    test.loc[test[level1+'_'+level2+'_label'].isnull(),level1+'_'+level2+'_label']='others'\n",
    "    train.loc[train[level1+'_'+level2+'_label'].isnull(),level1+'_'+level2+'_label']='others'\n",
    "    train=pd.merge(train,final.drop_duplicates([level1,level1+'_'+level2+'_label']),on=[level1,level1+'_'+level2+'_label'],how='left')\n",
    "    test=pd.merge(test,final.drop_duplicates([level1,level1+'_'+level2+'_label']),on=[level1,level1+'_'+level2+'_label'],how='left')\n",
    "    train.rename(columns={level2+'_x':level2},inplace=True)\n",
    "    test.rename(columns={level2+'_x':level2},inplace=True)\n",
    "    return train,test"
   ]
  },
  {
   "cell_type": "code",
   "execution_count": 315,
   "metadata": {
    "collapsed": false
   },
   "outputs": [
    {
     "data": {
      "text/plain": [
       "\"def feature_creation_at_2levels(train,test,level1,level2,noise,get_rank):\\n    train_m,test_m=preprocessing(train,test,[level1,level2],noise)\\n    train,test=two_level_target_encoding(train_m,test_m,level1+'_grouped',level2,'num_orders','id',noise,get_rank)\\n    return train,test\""
      ]
     },
     "execution_count": 315,
     "metadata": {},
     "output_type": "execute_result"
    }
   ],
   "source": [
    "'''def feature_creation_at_2levels(train,test,level1,level2,noise,get_rank):\n",
    "    train_m,test_m=preprocessing(train,test,[level1,level2],noise)\n",
    "    train,test=two_level_target_encoding(train_m,test_m,level1+'_grouped',level2,'num_orders','id',noise,get_rank)\n",
    "    return train,test'''"
   ]
  },
  {
   "cell_type": "code",
   "execution_count": 375,
   "metadata": {
    "collapsed": true
   },
   "outputs": [],
   "source": [
    "def feature_creation(train,test,columns,noise):\n",
    "    train_m,test_m=preprocessing(train,test,columns,noise)\n",
    "    train,test=target_encoding(train_m,test_m,columns,'num_orders')\n",
    "    return train,test"
   ]
  },
  {
   "cell_type": "code",
   "execution_count": 376,
   "metadata": {
    "collapsed": true
   },
   "outputs": [],
   "source": [
    "def feature_creation2(train,test,columns,noise):\n",
    "    for a,b in columns:\n",
    "        train,test=preprocessing(train,test,[a,b],noise)\n",
    "    train,test=target_encoding2(train,test,columns,'num_orders')\n",
    "    return train,test"
   ]
  },
  {
   "cell_type": "code",
   "execution_count": 377,
   "metadata": {
    "collapsed": true
   },
   "outputs": [],
   "source": [
    "def feature_creation3(train,test,columns,noise):\n",
    "    for a,b,c in columns:\n",
    "        train,test=preprocessing(train,test,[a,b,c],noise)\n",
    "    train,test=target_encoding3(train,test,columns,'num_orders')\n",
    "    return train,test"
   ]
  },
  {
   "cell_type": "code",
   "execution_count": 378,
   "metadata": {
    "collapsed": false
   },
   "outputs": [],
   "source": [
    "train['week_as_year']=train['week']%52\n",
    "test['week_as_year']=test['week']%52"
   ]
  },
  {
   "cell_type": "code",
   "execution_count": null,
   "metadata": {
    "collapsed": true
   },
   "outputs": [],
   "source": []
  },
  {
   "cell_type": "code",
   "execution_count": null,
   "metadata": {
    "collapsed": true
   },
   "outputs": [],
   "source": []
  },
  {
   "cell_type": "code",
   "execution_count": 379,
   "metadata": {
    "collapsed": false
   },
   "outputs": [
    {
     "data": {
      "text/plain": [
       "(32573, 10)"
      ]
     },
     "execution_count": 379,
     "metadata": {},
     "output_type": "execute_result"
    }
   ],
   "source": [
    "test.shape"
   ]
  },
  {
   "cell_type": "code",
   "execution_count": 380,
   "metadata": {
    "collapsed": true
   },
   "outputs": [],
   "source": [
    "train=pd.merge(train,history_meals,how='left',on='meal_id')\n",
    "test=pd.merge(test,history_meals,how='left',on='meal_id')\n",
    "train=pd.merge(train,history_center,how='left',on='center_id')\n",
    "test=pd.merge(test,history_center,how='left',on='center_id')"
   ]
  },
  {
   "cell_type": "code",
   "execution_count": 381,
   "metadata": {
    "collapsed": false
   },
   "outputs": [
    {
     "data": {
      "text/plain": [
       "Index(['id', 'week', 'center_id', 'meal_id', 'checkout_price', 'base_price',\n",
       "       'emailer_for_promotion', 'homepage_featured', 'num_orders',\n",
       "       'actual_discount', 'week_as_year', 'category', 'cuisine', 'city_code',\n",
       "       'region_code', 'center_type', 'op_area'],\n",
       "      dtype='object')"
      ]
     },
     "execution_count": 381,
     "metadata": {},
     "output_type": "execute_result"
    }
   ],
   "source": [
    "train.columns"
   ]
  },
  {
   "cell_type": "code",
   "execution_count": 382,
   "metadata": {
    "collapsed": false
   },
   "outputs": [
    {
     "data": {
      "text/plain": [
       "(456548, 17)"
      ]
     },
     "execution_count": 382,
     "metadata": {},
     "output_type": "execute_result"
    }
   ],
   "source": [
    "train.shape"
   ]
  },
  {
   "cell_type": "code",
   "execution_count": 383,
   "metadata": {
    "collapsed": false
   },
   "outputs": [],
   "source": [
    "train,test=feature_creation(train,test,['emailer_for_promotion', 'homepage_featured','category', 'cuisine','city_code', 'region_code', 'center_type'],100)"
   ]
  },
  {
   "cell_type": "code",
   "execution_count": 350,
   "metadata": {
    "collapsed": false
   },
   "outputs": [
    {
     "data": {
      "text/plain": [
       "Index(['id', 'week', 'center_id', 'meal_id', 'checkout_price', 'base_price',\n",
       "       'emailer_for_promotion', 'homepage_featured', 'num_orders',\n",
       "       'actual_discount', 'week_as_year', 'category', 'cuisine', 'city_code',\n",
       "       'region_code', 'center_type', 'op_area',\n",
       "       'emailer_for_promotion_grouped', 'homepage_featured_grouped',\n",
       "       'category_grouped', 'cuisine_grouped', 'city_code_grouped',\n",
       "       'region_code_grouped', 'center_type_grouped',\n",
       "       'emailer_for_promotion_history', 'homepage_featured_history',\n",
       "       'category_history', 'cuisine_history', 'city_code_history',\n",
       "       'region_code_history', 'center_type_history'],\n",
       "      dtype='object')"
      ]
     },
     "execution_count": 350,
     "metadata": {},
     "output_type": "execute_result"
    }
   ],
   "source": [
    "train.columns"
   ]
  },
  {
   "cell_type": "code",
   "execution_count": 351,
   "metadata": {
    "collapsed": false
   },
   "outputs": [
    {
     "data": {
      "text/plain": [
       "(423727, 31)"
      ]
     },
     "execution_count": 351,
     "metadata": {},
     "output_type": "execute_result"
    }
   ],
   "source": [
    "train.shape#"
   ]
  },
  {
   "cell_type": "code",
   "execution_count": 384,
   "metadata": {
    "collapsed": false
   },
   "outputs": [],
   "source": [
    "train,test=feature_creation2(train,test,[('cuisine','category'),('region_code','city_code'),('city_code','cuisine'),('region_code','cuisine'),('center_type','category')],100)"
   ]
  },
  {
   "cell_type": "code",
   "execution_count": 385,
   "metadata": {
    "collapsed": false
   },
   "outputs": [
    {
     "data": {
      "text/plain": [
       "(456548, 36)"
      ]
     },
     "execution_count": 385,
     "metadata": {},
     "output_type": "execute_result"
    }
   ],
   "source": [
    "train.shape"
   ]
  },
  {
   "cell_type": "code",
   "execution_count": 386,
   "metadata": {
    "collapsed": false
   },
   "outputs": [],
   "source": [
    "abc=train.groupby(['city_code_grouped']).agg({'checkout_price':'mean'})\n",
    "abc.reset_index(inplace=True)\n",
    "abc.columns=['city_code_grouped','checkout_price_mean']\n",
    "train=pd.merge(train,abc,how='left',on='city_code_grouped')\n",
    "test['city_code_grouped']=test['city_code_grouped'].astype(str)\n",
    "test=pd.merge(test,abc,how='left',on='city_code_grouped')\n",
    "train['checkout_price_city_wise']=train['checkout_price']/train['checkout_price_mean']\n",
    "test['checkout_price_city_wise']=test['checkout_price']/test['checkout_price_mean']\n",
    "abc=train.groupby(['region_code_grouped']).agg({'checkout_price':'mean'})\n",
    "abc.reset_index(inplace=True)\n",
    "abc.columns=['region_code_grouped','region_checkout_price_mean']\n",
    "train=pd.merge(train,abc,how='left',on='region_code_grouped')\n",
    "test['region_code_grouped']=test['region_code_grouped'].astype(str)\n",
    "test=pd.merge(test,abc,how='left',on='region_code_grouped')\n",
    "train['checkout_price_region_wise']=train['checkout_price']/train['region_checkout_price_mean']\n",
    "test['checkout_price_region_wise']=test['checkout_price']/test['region_checkout_price_mean']"
   ]
  },
  {
   "cell_type": "code",
   "execution_count": 387,
   "metadata": {
    "collapsed": true
   },
   "outputs": [],
   "source": [
    "abc=train.groupby(['city_code_grouped']).agg({'op_area':'mean'})\n",
    "abc.reset_index(inplace=True)\n",
    "abc.columns=['city_code_grouped','op_area_mean']\n",
    "train=pd.merge(train,abc,how='left',on='city_code_grouped')\n",
    "test['city_code_grouped']=test['city_code_grouped'].astype(str)\n",
    "test=pd.merge(test,abc,how='left',on='city_code_grouped')\n",
    "train['op_area_city_wise']=train['op_area']/train['op_area_mean']\n",
    "test['op_area_city_wise']=test['op_area']/test['op_area_mean']"
   ]
  },
  {
   "cell_type": "code",
   "execution_count": 388,
   "metadata": {
    "collapsed": false
   },
   "outputs": [
    {
     "data": {
      "text/plain": [
       "Index(['id', 'week', 'center_id', 'meal_id', 'checkout_price', 'base_price',\n",
       "       'emailer_for_promotion', 'homepage_featured', 'num_orders',\n",
       "       'actual_discount', 'week_as_year', 'category', 'cuisine', 'city_code',\n",
       "       'region_code', 'center_type', 'op_area',\n",
       "       'emailer_for_promotion_grouped', 'homepage_featured_grouped',\n",
       "       'category_grouped', 'cuisine_grouped', 'city_code_grouped',\n",
       "       'region_code_grouped', 'center_type_grouped',\n",
       "       'emailer_for_promotion_history', 'homepage_featured_history',\n",
       "       'category_history', 'cuisine_history', 'city_code_history',\n",
       "       'region_code_history', 'center_type_history',\n",
       "       'cuisine_category_history', 'region_code_city_code_history',\n",
       "       'city_code_cuisine_history', 'region_code_cuisine_history',\n",
       "       'center_type_category_history', 'checkout_price_mean',\n",
       "       'checkout_price_city_wise', 'region_checkout_price_mean',\n",
       "       'checkout_price_region_wise', 'op_area_mean', 'op_area_city_wise'],\n",
       "      dtype='object')"
      ]
     },
     "execution_count": 388,
     "metadata": {},
     "output_type": "execute_result"
    }
   ],
   "source": [
    "train.columns"
   ]
  },
  {
   "cell_type": "code",
   "execution_count": 417,
   "metadata": {
    "collapsed": true
   },
   "outputs": [],
   "source": [
    "features=['week', 'checkout_price','actual_discount', 'emailer_for_promotion_history',\n",
    "       'homepage_featured_history', 'category_history',\n",
    "       'cuisine_history','region_code_history', 'center_type_history','op_area','cuisine_category_history', \n",
    "       'city_code_cuisine_history',\n",
    "       'center_type_category_history','checkout_price_city_wise',\n",
    "        'op_area_city_wise']\n",
    "output='num_orders'"
   ]
  },
  {
   "cell_type": "code",
   "execution_count": 412,
   "metadata": {
    "collapsed": true
   },
   "outputs": [],
   "source": [
    "features1=features.copy()\n",
    "features1.append(output)"
   ]
  },
  {
   "cell_type": "code",
   "execution_count": 413,
   "metadata": {
    "collapsed": true
   },
   "outputs": [],
   "source": [
    "import matplotlib.pyplot as plt\n",
    "import seaborn as sns"
   ]
  },
  {
   "cell_type": "code",
   "execution_count": 414,
   "metadata": {
    "collapsed": false
   },
   "outputs": [
    {
     "data": {
      "text/plain": [
       "<matplotlib.axes._subplots.AxesSubplot at 0x200bcc1dd68>"
      ]
     },
     "execution_count": 414,
     "metadata": {},
     "output_type": "execute_result"
    }
   ],
   "source": [
    "sns.heatmap(train[features1].corr())"
   ]
  },
  {
   "cell_type": "code",
   "execution_count": 415,
   "metadata": {
    "collapsed": false
   },
   "outputs": [
    {
     "data": {
      "text/plain": [
       "checkout_price                  -0.282108\n",
       "checkout_price_city_wise        -0.282095\n",
       "week                            -0.017210\n",
       "center_type_history              0.092174\n",
       "region_code_history              0.133043\n",
       "op_area_city_wise                0.137896\n",
       "actual_discount                  0.152950\n",
       "op_area                          0.176976\n",
       "cuisine_history                  0.178772\n",
       "city_code_history                0.182255\n",
       "region_code_city_code_history    0.182321\n",
       "region_code_cuisine_history      0.231368\n",
       "city_code_cuisine_history        0.275429\n",
       "emailer_for_promotion_history    0.277105\n",
       "homepage_featured_history        0.294471\n",
       "category_history                 0.427358\n",
       "center_type_category_history     0.453679\n",
       "cuisine_category_history         0.495182\n",
       "num_orders                       1.000000\n",
       "Name: num_orders, dtype: float64"
      ]
     },
     "execution_count": 415,
     "metadata": {},
     "output_type": "execute_result"
    }
   ],
   "source": [
    "train[features1].corr().sort_values(by='num_orders')['num_orders']"
   ]
  },
  {
   "cell_type": "code",
   "execution_count": 416,
   "metadata": {
    "collapsed": false
   },
   "outputs": [
    {
     "data": {
      "image/png": "[encoded data removed]",
      "text/plain": [
       "<Figure size 576x396 with 2 Axes>"
      ]
     },
     "metadata": {},
     "output_type": "display_data"
    }
   ],
   "source": [
    "plt.show()"
   ]
  },
  {
   "cell_type": "code",
   "execution_count": 418,
   "metadata": {
    "collapsed": false
   },
   "outputs": [],
   "source": [
    "rfc=RandomForestRegressor()\n",
    "rfc.fit(train[features],train[output])\n",
    "predictions=rfc.predict(test[features])"
   ]
  },
  {
   "cell_type": "code",
   "execution_count": null,
   "metadata": {
    "collapsed": true
   },
   "outputs": [],
   "source": []
  },
  {
   "cell_type": "code",
   "execution_count": 298,
   "metadata": {
    "collapsed": true
   },
   "outputs": [],
   "source": [
    "import lightgbm as lgb"
   ]
  },
  {
   "cell_type": "code",
   "execution_count": 300,
   "metadata": {
    "collapsed": false
   },
   "outputs": [],
   "source": [
    "lt= lgb.LGBMRegressor(boosting_type='gbdt', num_leaves=31, max_depth=3, learning_rate=0.1, n_estimators=100,  subsample=0.9,  random_state=12, n_jobs=-1)"
   ]
  },
  {
   "cell_type": "code",
   "execution_count": null,
   "metadata": {
    "collapsed": true
   },
   "outputs": [],
   "source": [
    "lt.`"
   ]
  },
  {
   "cell_type": "code",
   "execution_count": 291,
   "metadata": {
    "collapsed": true
   },
   "outputs": [],
   "source": [
    "xgb=XGBRegressor(n_estimators=300,subsample=0.9,colsample_bytree=0.9,min_child_weight=40)"
   ]
  },
  {
   "cell_type": "code",
   "execution_count": 292,
   "metadata": {
    "collapsed": false
   },
   "outputs": [
    {
     "data": {
      "text/plain": [
       "(456548, 36)"
      ]
     },
     "execution_count": 292,
     "metadata": {},
     "output_type": "execute_result"
    }
   ],
   "source": [
    "train.shape"
   ]
  },
  {
   "cell_type": "code",
   "execution_count": 301,
   "metadata": {
    "collapsed": true
   },
   "outputs": [],
   "source": [
    "lt.fit(train[features],train[output])\n",
    "predictions=lt.predict(test[features])"
   ]
  },
  {
   "cell_type": "code",
   "execution_count": 362,
   "metadata": {
    "collapsed": false
   },
   "outputs": [
    {
     "data": {
      "text/plain": [
       "0.36073580894933149"
      ]
     },
     "execution_count": 362,
     "metadata": {},
     "output_type": "execute_result"
    }
   ],
   "source": [
    "mean_squared_log_error(test[output],predictions)#0.38693526971095088 base\n",
    "#1 pred base rfc"
   ]
  },
  {
   "cell_type": "code",
   "execution_count": 419,
   "metadata": {
    "collapsed": true
   },
   "outputs": [],
   "source": [
    "test['num_orders']=predictions"
   ]
  },
  {
   "cell_type": "code",
   "execution_count": 304,
   "metadata": {
    "collapsed": false
   },
   "outputs": [
    {
     "data": {
      "text/html": [
       "<div>\n",
       "<style>\n",
       "    .dataframe thead tr:only-child th {\n",
       "        text-align: right;\n",
       "    }\n",
       "\n",
       "    .dataframe thead th {\n",
       "        text-align: left;\n",
       "    }\n",
       "\n",
       "    .dataframe tbody tr th {\n",
       "        vertical-align: top;\n",
       "    }\n",
       "</style>\n",
       "<table border=\"1\" class=\"dataframe\">\n",
       "  <thead>\n",
       "    <tr style=\"text-align: right;\">\n",
       "      <th></th>\n",
       "      <th>id</th>\n",
       "      <th>week</th>\n",
       "      <th>center_id</th>\n",
       "      <th>meal_id</th>\n",
       "      <th>checkout_price</th>\n",
       "      <th>base_price</th>\n",
       "      <th>emailer_for_promotion</th>\n",
       "      <th>homepage_featured</th>\n",
       "      <th>actual_discount</th>\n",
       "      <th>week_as_year</th>\n",
       "      <th>...</th>\n",
       "      <th>cuisine_history</th>\n",
       "      <th>city_code_history</th>\n",
       "      <th>region_code_history</th>\n",
       "      <th>center_type_history</th>\n",
       "      <th>cuisine_category_history</th>\n",
       "      <th>region_code_city_code_history</th>\n",
       "      <th>city_code_cuisine_history</th>\n",
       "      <th>region_code_cuisine_history</th>\n",
       "      <th>center_type_category_history</th>\n",
       "      <th>num_orders</th>\n",
       "    </tr>\n",
       "  </thead>\n",
       "  <tbody>\n",
       "    <tr>\n",
       "      <th>531</th>\n",
       "      <td>1164653</td>\n",
       "      <td>146</td>\n",
       "      <td>149</td>\n",
       "      <td>1216</td>\n",
       "      <td>412.25</td>\n",
       "      <td>412.25</td>\n",
       "      <td>0</td>\n",
       "      <td>0</td>\n",
       "      <td>0.00</td>\n",
       "      <td>42</td>\n",
       "      <td>...</td>\n",
       "      <td>359.347830</td>\n",
       "      <td>126.972117</td>\n",
       "      <td>216.987835</td>\n",
       "      <td>262.394456</td>\n",
       "      <td>59.137142</td>\n",
       "      <td>126.972117</td>\n",
       "      <td>163.633676</td>\n",
       "      <td>290.038829</td>\n",
       "      <td>55.670259</td>\n",
       "      <td>-17.289382</td>\n",
       "    </tr>\n",
       "    <tr>\n",
       "      <th>532</th>\n",
       "      <td>1444590</td>\n",
       "      <td>146</td>\n",
       "      <td>149</td>\n",
       "      <td>2126</td>\n",
       "      <td>472.42</td>\n",
       "      <td>471.42</td>\n",
       "      <td>0</td>\n",
       "      <td>0</td>\n",
       "      <td>-1.00</td>\n",
       "      <td>42</td>\n",
       "      <td>...</td>\n",
       "      <td>359.347830</td>\n",
       "      <td>126.972117</td>\n",
       "      <td>216.987835</td>\n",
       "      <td>262.394456</td>\n",
       "      <td>59.137142</td>\n",
       "      <td>126.972117</td>\n",
       "      <td>163.633676</td>\n",
       "      <td>290.038829</td>\n",
       "      <td>55.670259</td>\n",
       "      <td>-17.289382</td>\n",
       "    </tr>\n",
       "    <tr>\n",
       "      <th>536</th>\n",
       "      <td>1177147</td>\n",
       "      <td>146</td>\n",
       "      <td>149</td>\n",
       "      <td>1247</td>\n",
       "      <td>445.23</td>\n",
       "      <td>447.23</td>\n",
       "      <td>0</td>\n",
       "      <td>0</td>\n",
       "      <td>2.00</td>\n",
       "      <td>42</td>\n",
       "      <td>...</td>\n",
       "      <td>229.039037</td>\n",
       "      <td>126.972117</td>\n",
       "      <td>216.987835</td>\n",
       "      <td>262.394456</td>\n",
       "      <td>30.651402</td>\n",
       "      <td>126.972117</td>\n",
       "      <td>124.689115</td>\n",
       "      <td>191.124048</td>\n",
       "      <td>28.041888</td>\n",
       "      <td>-11.615252</td>\n",
       "    </tr>\n",
       "    <tr>\n",
       "      <th>537</th>\n",
       "      <td>1455218</td>\n",
       "      <td>146</td>\n",
       "      <td>149</td>\n",
       "      <td>1770</td>\n",
       "      <td>425.83</td>\n",
       "      <td>486.03</td>\n",
       "      <td>0</td>\n",
       "      <td>0</td>\n",
       "      <td>60.20</td>\n",
       "      <td>42</td>\n",
       "      <td>...</td>\n",
       "      <td>229.039037</td>\n",
       "      <td>126.972117</td>\n",
       "      <td>216.987835</td>\n",
       "      <td>262.394456</td>\n",
       "      <td>30.651402</td>\n",
       "      <td>126.972117</td>\n",
       "      <td>124.689115</td>\n",
       "      <td>191.124048</td>\n",
       "      <td>28.041888</td>\n",
       "      <td>-5.050596</td>\n",
       "    </tr>\n",
       "    <tr>\n",
       "      <th>541</th>\n",
       "      <td>1045506</td>\n",
       "      <td>146</td>\n",
       "      <td>149</td>\n",
       "      <td>2444</td>\n",
       "      <td>726.53</td>\n",
       "      <td>727.53</td>\n",
       "      <td>0</td>\n",
       "      <td>0</td>\n",
       "      <td>1.00</td>\n",
       "      <td>42</td>\n",
       "      <td>...</td>\n",
       "      <td>164.545348</td>\n",
       "      <td>126.972117</td>\n",
       "      <td>216.987835</td>\n",
       "      <td>262.394456</td>\n",
       "      <td>100.895898</td>\n",
       "      <td>126.972117</td>\n",
       "      <td>90.210285</td>\n",
       "      <td>144.771886</td>\n",
       "      <td>101.888499</td>\n",
       "      <td>-3.996517</td>\n",
       "    </tr>\n",
       "    <tr>\n",
       "      <th>544</th>\n",
       "      <td>1008295</td>\n",
       "      <td>146</td>\n",
       "      <td>149</td>\n",
       "      <td>2492</td>\n",
       "      <td>456.93</td>\n",
       "      <td>456.93</td>\n",
       "      <td>0</td>\n",
       "      <td>0</td>\n",
       "      <td>0.00</td>\n",
       "      <td>42</td>\n",
       "      <td>...</td>\n",
       "      <td>229.039037</td>\n",
       "      <td>126.972117</td>\n",
       "      <td>216.987835</td>\n",
       "      <td>262.394456</td>\n",
       "      <td>66.250905</td>\n",
       "      <td>126.972117</td>\n",
       "      <td>124.689115</td>\n",
       "      <td>191.124048</td>\n",
       "      <td>60.079682</td>\n",
       "      <td>-8.734577</td>\n",
       "    </tr>\n",
       "    <tr>\n",
       "      <th>545</th>\n",
       "      <td>1406978</td>\n",
       "      <td>146</td>\n",
       "      <td>149</td>\n",
       "      <td>1543</td>\n",
       "      <td>466.57</td>\n",
       "      <td>467.57</td>\n",
       "      <td>0</td>\n",
       "      <td>0</td>\n",
       "      <td>1.00</td>\n",
       "      <td>42</td>\n",
       "      <td>...</td>\n",
       "      <td>229.039037</td>\n",
       "      <td>126.972117</td>\n",
       "      <td>216.987835</td>\n",
       "      <td>262.394456</td>\n",
       "      <td>66.250905</td>\n",
       "      <td>126.972117</td>\n",
       "      <td>124.689115</td>\n",
       "      <td>191.124048</td>\n",
       "      <td>60.079682</td>\n",
       "      <td>-8.734577</td>\n",
       "    </tr>\n",
       "    <tr>\n",
       "      <th>546</th>\n",
       "      <td>1470180</td>\n",
       "      <td>146</td>\n",
       "      <td>149</td>\n",
       "      <td>2304</td>\n",
       "      <td>482.09</td>\n",
       "      <td>482.09</td>\n",
       "      <td>0</td>\n",
       "      <td>0</td>\n",
       "      <td>0.00</td>\n",
       "      <td>42</td>\n",
       "      <td>...</td>\n",
       "      <td>229.039037</td>\n",
       "      <td>126.972117</td>\n",
       "      <td>216.987835</td>\n",
       "      <td>262.394456</td>\n",
       "      <td>66.250905</td>\n",
       "      <td>126.972117</td>\n",
       "      <td>124.689115</td>\n",
       "      <td>191.124048</td>\n",
       "      <td>60.079682</td>\n",
       "      <td>-8.734577</td>\n",
       "    </tr>\n",
       "    <tr>\n",
       "      <th>2354</th>\n",
       "      <td>1350206</td>\n",
       "      <td>146</td>\n",
       "      <td>41</td>\n",
       "      <td>1216</td>\n",
       "      <td>416.13</td>\n",
       "      <td>418.13</td>\n",
       "      <td>0</td>\n",
       "      <td>0</td>\n",
       "      <td>2.00</td>\n",
       "      <td>42</td>\n",
       "      <td>...</td>\n",
       "      <td>359.347830</td>\n",
       "      <td>362.566434</td>\n",
       "      <td>316.481849</td>\n",
       "      <td>206.670097</td>\n",
       "      <td>59.137142</td>\n",
       "      <td>362.566434</td>\n",
       "      <td>496.757230</td>\n",
       "      <td>443.725289</td>\n",
       "      <td>37.067478</td>\n",
       "      <td>-41.864291</td>\n",
       "    </tr>\n",
       "    <tr>\n",
       "      <th>2355</th>\n",
       "      <td>1276836</td>\n",
       "      <td>146</td>\n",
       "      <td>41</td>\n",
       "      <td>2126</td>\n",
       "      <td>484.03</td>\n",
       "      <td>485.03</td>\n",
       "      <td>0</td>\n",
       "      <td>0</td>\n",
       "      <td>1.00</td>\n",
       "      <td>42</td>\n",
       "      <td>...</td>\n",
       "      <td>359.347830</td>\n",
       "      <td>362.566434</td>\n",
       "      <td>316.481849</td>\n",
       "      <td>206.670097</td>\n",
       "      <td>59.137142</td>\n",
       "      <td>362.566434</td>\n",
       "      <td>496.757230</td>\n",
       "      <td>443.725289</td>\n",
       "      <td>37.067478</td>\n",
       "      <td>-41.864291</td>\n",
       "    </tr>\n",
       "    <tr>\n",
       "      <th>2365</th>\n",
       "      <td>1303550</td>\n",
       "      <td>146</td>\n",
       "      <td>41</td>\n",
       "      <td>1543</td>\n",
       "      <td>486.03</td>\n",
       "      <td>484.03</td>\n",
       "      <td>0</td>\n",
       "      <td>0</td>\n",
       "      <td>-2.00</td>\n",
       "      <td>42</td>\n",
       "      <td>...</td>\n",
       "      <td>229.039037</td>\n",
       "      <td>362.566434</td>\n",
       "      <td>316.481849</td>\n",
       "      <td>206.670097</td>\n",
       "      <td>66.250905</td>\n",
       "      <td>362.566434</td>\n",
       "      <td>340.857299</td>\n",
       "      <td>275.756380</td>\n",
       "      <td>51.369761</td>\n",
       "      <td>-3.858502</td>\n",
       "    </tr>\n",
       "    <tr>\n",
       "      <th>2366</th>\n",
       "      <td>1197899</td>\n",
       "      <td>146</td>\n",
       "      <td>41</td>\n",
       "      <td>2304</td>\n",
       "      <td>484.03</td>\n",
       "      <td>485.03</td>\n",
       "      <td>0</td>\n",
       "      <td>0</td>\n",
       "      <td>1.00</td>\n",
       "      <td>42</td>\n",
       "      <td>...</td>\n",
       "      <td>229.039037</td>\n",
       "      <td>362.566434</td>\n",
       "      <td>316.481849</td>\n",
       "      <td>206.670097</td>\n",
       "      <td>66.250905</td>\n",
       "      <td>362.566434</td>\n",
       "      <td>340.857299</td>\n",
       "      <td>275.756380</td>\n",
       "      <td>51.369761</td>\n",
       "      <td>-3.858502</td>\n",
       "    </tr>\n",
       "    <tr>\n",
       "      <th>3258</th>\n",
       "      <td>1221607</td>\n",
       "      <td>147</td>\n",
       "      <td>55</td>\n",
       "      <td>2126</td>\n",
       "      <td>485.03</td>\n",
       "      <td>486.03</td>\n",
       "      <td>0</td>\n",
       "      <td>0</td>\n",
       "      <td>1.00</td>\n",
       "      <td>43</td>\n",
       "      <td>...</td>\n",
       "      <td>359.347830</td>\n",
       "      <td>276.243387</td>\n",
       "      <td>316.481849</td>\n",
       "      <td>206.670097</td>\n",
       "      <td>59.137142</td>\n",
       "      <td>276.243387</td>\n",
       "      <td>405.613481</td>\n",
       "      <td>443.725289</td>\n",
       "      <td>37.067478</td>\n",
       "      <td>-7.194812</td>\n",
       "    </tr>\n",
       "    <tr>\n",
       "      <th>3771</th>\n",
       "      <td>1486308</td>\n",
       "      <td>147</td>\n",
       "      <td>149</td>\n",
       "      <td>2306</td>\n",
       "      <td>241.53</td>\n",
       "      <td>336.62</td>\n",
       "      <td>0</td>\n",
       "      <td>0</td>\n",
       "      <td>95.09</td>\n",
       "      <td>43</td>\n",
       "      <td>...</td>\n",
       "      <td>359.347830</td>\n",
       "      <td>126.972117</td>\n",
       "      <td>216.987835</td>\n",
       "      <td>262.394456</td>\n",
       "      <td>59.137142</td>\n",
       "      <td>126.972117</td>\n",
       "      <td>163.633676</td>\n",
       "      <td>290.038829</td>\n",
       "      <td>55.670259</td>\n",
       "      <td>-10.144801</td>\n",
       "    </tr>\n",
       "    <tr>\n",
       "      <th>3772</th>\n",
       "      <td>1293396</td>\n",
       "      <td>147</td>\n",
       "      <td>149</td>\n",
       "      <td>1216</td>\n",
       "      <td>413.25</td>\n",
       "      <td>413.25</td>\n",
       "      <td>0</td>\n",
       "      <td>0</td>\n",
       "      <td>0.00</td>\n",
       "      <td>43</td>\n",
       "      <td>...</td>\n",
       "      <td>359.347830</td>\n",
       "      <td>126.972117</td>\n",
       "      <td>216.987835</td>\n",
       "      <td>262.394456</td>\n",
       "      <td>59.137142</td>\n",
       "      <td>126.972117</td>\n",
       "      <td>163.633676</td>\n",
       "      <td>290.038829</td>\n",
       "      <td>55.670259</td>\n",
       "      <td>-17.289382</td>\n",
       "    </tr>\n",
       "    <tr>\n",
       "      <th>3773</th>\n",
       "      <td>1399766</td>\n",
       "      <td>147</td>\n",
       "      <td>149</td>\n",
       "      <td>2126</td>\n",
       "      <td>437.53</td>\n",
       "      <td>435.53</td>\n",
       "      <td>0</td>\n",
       "      <td>0</td>\n",
       "      <td>-2.00</td>\n",
       "      <td>43</td>\n",
       "      <td>...</td>\n",
       "      <td>359.347830</td>\n",
       "      <td>126.972117</td>\n",
       "      <td>216.987835</td>\n",
       "      <td>262.394456</td>\n",
       "      <td>59.137142</td>\n",
       "      <td>126.972117</td>\n",
       "      <td>163.633676</td>\n",
       "      <td>290.038829</td>\n",
       "      <td>55.670259</td>\n",
       "      <td>-17.289382</td>\n",
       "    </tr>\n",
       "    <tr>\n",
       "      <th>3782</th>\n",
       "      <td>1406013</td>\n",
       "      <td>147</td>\n",
       "      <td>149</td>\n",
       "      <td>2492</td>\n",
       "      <td>455.93</td>\n",
       "      <td>456.93</td>\n",
       "      <td>0</td>\n",
       "      <td>0</td>\n",
       "      <td>1.00</td>\n",
       "      <td>43</td>\n",
       "      <td>...</td>\n",
       "      <td>229.039037</td>\n",
       "      <td>126.972117</td>\n",
       "      <td>216.987835</td>\n",
       "      <td>262.394456</td>\n",
       "      <td>66.250905</td>\n",
       "      <td>126.972117</td>\n",
       "      <td>124.689115</td>\n",
       "      <td>191.124048</td>\n",
       "      <td>60.079682</td>\n",
       "      <td>-8.734577</td>\n",
       "    </tr>\n",
       "    <tr>\n",
       "      <th>3783</th>\n",
       "      <td>1371746</td>\n",
       "      <td>147</td>\n",
       "      <td>149</td>\n",
       "      <td>1543</td>\n",
       "      <td>389.03</td>\n",
       "      <td>467.57</td>\n",
       "      <td>0</td>\n",
       "      <td>0</td>\n",
       "      <td>78.54</td>\n",
       "      <td>43</td>\n",
       "      <td>...</td>\n",
       "      <td>229.039037</td>\n",
       "      <td>126.972117</td>\n",
       "      <td>216.987835</td>\n",
       "      <td>262.394456</td>\n",
       "      <td>66.250905</td>\n",
       "      <td>126.972117</td>\n",
       "      <td>124.689115</td>\n",
       "      <td>191.124048</td>\n",
       "      <td>60.079682</td>\n",
       "      <td>-2.169921</td>\n",
       "    </tr>\n",
       "    <tr>\n",
       "      <th>3784</th>\n",
       "      <td>1107668</td>\n",
       "      <td>147</td>\n",
       "      <td>149</td>\n",
       "      <td>2304</td>\n",
       "      <td>387.03</td>\n",
       "      <td>482.09</td>\n",
       "      <td>0</td>\n",
       "      <td>0</td>\n",
       "      <td>95.06</td>\n",
       "      <td>43</td>\n",
       "      <td>...</td>\n",
       "      <td>229.039037</td>\n",
       "      <td>126.972117</td>\n",
       "      <td>216.987835</td>\n",
       "      <td>262.394456</td>\n",
       "      <td>66.250905</td>\n",
       "      <td>126.972117</td>\n",
       "      <td>124.689115</td>\n",
       "      <td>191.124048</td>\n",
       "      <td>60.079682</td>\n",
       "      <td>-2.169921</td>\n",
       "    </tr>\n",
       "    <tr>\n",
       "      <th>4191</th>\n",
       "      <td>1435029</td>\n",
       "      <td>147</td>\n",
       "      <td>91</td>\n",
       "      <td>1216</td>\n",
       "      <td>416.13</td>\n",
       "      <td>417.13</td>\n",
       "      <td>0</td>\n",
       "      <td>0</td>\n",
       "      <td>1.00</td>\n",
       "      <td>43</td>\n",
       "      <td>...</td>\n",
       "      <td>359.347830</td>\n",
       "      <td>362.566434</td>\n",
       "      <td>316.481849</td>\n",
       "      <td>206.670097</td>\n",
       "      <td>59.137142</td>\n",
       "      <td>362.566434</td>\n",
       "      <td>496.757230</td>\n",
       "      <td>443.725289</td>\n",
       "      <td>37.067478</td>\n",
       "      <td>-41.864291</td>\n",
       "    </tr>\n",
       "    <tr>\n",
       "      <th>5609</th>\n",
       "      <td>1495173</td>\n",
       "      <td>147</td>\n",
       "      <td>41</td>\n",
       "      <td>1216</td>\n",
       "      <td>417.13</td>\n",
       "      <td>416.13</td>\n",
       "      <td>0</td>\n",
       "      <td>0</td>\n",
       "      <td>-1.00</td>\n",
       "      <td>43</td>\n",
       "      <td>...</td>\n",
       "      <td>359.347830</td>\n",
       "      <td>362.566434</td>\n",
       "      <td>316.481849</td>\n",
       "      <td>206.670097</td>\n",
       "      <td>59.137142</td>\n",
       "      <td>362.566434</td>\n",
       "      <td>496.757230</td>\n",
       "      <td>443.725289</td>\n",
       "      <td>37.067478</td>\n",
       "      <td>-41.864291</td>\n",
       "    </tr>\n",
       "    <tr>\n",
       "      <th>5613</th>\n",
       "      <td>1010331</td>\n",
       "      <td>147</td>\n",
       "      <td>41</td>\n",
       "      <td>1247</td>\n",
       "      <td>445.23</td>\n",
       "      <td>446.23</td>\n",
       "      <td>0</td>\n",
       "      <td>0</td>\n",
       "      <td>1.00</td>\n",
       "      <td>43</td>\n",
       "      <td>...</td>\n",
       "      <td>229.039037</td>\n",
       "      <td>362.566434</td>\n",
       "      <td>316.481849</td>\n",
       "      <td>206.670097</td>\n",
       "      <td>30.651402</td>\n",
       "      <td>362.566434</td>\n",
       "      <td>340.857299</td>\n",
       "      <td>275.756380</td>\n",
       "      <td>19.164824</td>\n",
       "      <td>-6.392717</td>\n",
       "    </tr>\n",
       "    <tr>\n",
       "      <th>7048</th>\n",
       "      <td>1272003</td>\n",
       "      <td>148</td>\n",
       "      <td>149</td>\n",
       "      <td>1216</td>\n",
       "      <td>413.25</td>\n",
       "      <td>412.25</td>\n",
       "      <td>0</td>\n",
       "      <td>0</td>\n",
       "      <td>-1.00</td>\n",
       "      <td>44</td>\n",
       "      <td>...</td>\n",
       "      <td>359.347830</td>\n",
       "      <td>126.972117</td>\n",
       "      <td>216.987835</td>\n",
       "      <td>262.394456</td>\n",
       "      <td>59.137142</td>\n",
       "      <td>126.972117</td>\n",
       "      <td>163.633676</td>\n",
       "      <td>290.038829</td>\n",
       "      <td>55.670259</td>\n",
       "      <td>-17.289382</td>\n",
       "    </tr>\n",
       "    <tr>\n",
       "      <th>7049</th>\n",
       "      <td>1115507</td>\n",
       "      <td>148</td>\n",
       "      <td>149</td>\n",
       "      <td>2126</td>\n",
       "      <td>437.53</td>\n",
       "      <td>436.53</td>\n",
       "      <td>0</td>\n",
       "      <td>0</td>\n",
       "      <td>-1.00</td>\n",
       "      <td>44</td>\n",
       "      <td>...</td>\n",
       "      <td>359.347830</td>\n",
       "      <td>126.972117</td>\n",
       "      <td>216.987835</td>\n",
       "      <td>262.394456</td>\n",
       "      <td>59.137142</td>\n",
       "      <td>126.972117</td>\n",
       "      <td>163.633676</td>\n",
       "      <td>290.038829</td>\n",
       "      <td>55.670259</td>\n",
       "      <td>-17.289382</td>\n",
       "    </tr>\n",
       "    <tr>\n",
       "      <th>7053</th>\n",
       "      <td>1051057</td>\n",
       "      <td>148</td>\n",
       "      <td>149</td>\n",
       "      <td>1247</td>\n",
       "      <td>447.23</td>\n",
       "      <td>446.23</td>\n",
       "      <td>0</td>\n",
       "      <td>0</td>\n",
       "      <td>-1.00</td>\n",
       "      <td>44</td>\n",
       "      <td>...</td>\n",
       "      <td>229.039037</td>\n",
       "      <td>126.972117</td>\n",
       "      <td>216.987835</td>\n",
       "      <td>262.394456</td>\n",
       "      <td>30.651402</td>\n",
       "      <td>126.972117</td>\n",
       "      <td>124.689115</td>\n",
       "      <td>191.124048</td>\n",
       "      <td>28.041888</td>\n",
       "      <td>-11.615252</td>\n",
       "    </tr>\n",
       "    <tr>\n",
       "      <th>7054</th>\n",
       "      <td>1312752</td>\n",
       "      <td>148</td>\n",
       "      <td>149</td>\n",
       "      <td>1770</td>\n",
       "      <td>425.83</td>\n",
       "      <td>485.03</td>\n",
       "      <td>0</td>\n",
       "      <td>0</td>\n",
       "      <td>59.20</td>\n",
       "      <td>44</td>\n",
       "      <td>...</td>\n",
       "      <td>229.039037</td>\n",
       "      <td>126.972117</td>\n",
       "      <td>216.987835</td>\n",
       "      <td>262.394456</td>\n",
       "      <td>30.651402</td>\n",
       "      <td>126.972117</td>\n",
       "      <td>124.689115</td>\n",
       "      <td>191.124048</td>\n",
       "      <td>28.041888</td>\n",
       "      <td>-5.050596</td>\n",
       "    </tr>\n",
       "    <tr>\n",
       "      <th>7062</th>\n",
       "      <td>1161177</td>\n",
       "      <td>148</td>\n",
       "      <td>149</td>\n",
       "      <td>2492</td>\n",
       "      <td>455.93</td>\n",
       "      <td>454.93</td>\n",
       "      <td>0</td>\n",
       "      <td>0</td>\n",
       "      <td>-1.00</td>\n",
       "      <td>44</td>\n",
       "      <td>...</td>\n",
       "      <td>229.039037</td>\n",
       "      <td>126.972117</td>\n",
       "      <td>216.987835</td>\n",
       "      <td>262.394456</td>\n",
       "      <td>66.250905</td>\n",
       "      <td>126.972117</td>\n",
       "      <td>124.689115</td>\n",
       "      <td>191.124048</td>\n",
       "      <td>60.079682</td>\n",
       "      <td>-8.734577</td>\n",
       "    </tr>\n",
       "    <tr>\n",
       "      <th>7475</th>\n",
       "      <td>1268871</td>\n",
       "      <td>148</td>\n",
       "      <td>91</td>\n",
       "      <td>1216</td>\n",
       "      <td>418.13</td>\n",
       "      <td>416.13</td>\n",
       "      <td>0</td>\n",
       "      <td>0</td>\n",
       "      <td>-2.00</td>\n",
       "      <td>44</td>\n",
       "      <td>...</td>\n",
       "      <td>359.347830</td>\n",
       "      <td>362.566434</td>\n",
       "      <td>316.481849</td>\n",
       "      <td>206.670097</td>\n",
       "      <td>59.137142</td>\n",
       "      <td>362.566434</td>\n",
       "      <td>496.757230</td>\n",
       "      <td>443.725289</td>\n",
       "      <td>37.067478</td>\n",
       "      <td>-41.864291</td>\n",
       "    </tr>\n",
       "    <tr>\n",
       "      <th>7476</th>\n",
       "      <td>1297532</td>\n",
       "      <td>148</td>\n",
       "      <td>91</td>\n",
       "      <td>2126</td>\n",
       "      <td>484.03</td>\n",
       "      <td>485.03</td>\n",
       "      <td>0</td>\n",
       "      <td>0</td>\n",
       "      <td>1.00</td>\n",
       "      <td>44</td>\n",
       "      <td>...</td>\n",
       "      <td>359.347830</td>\n",
       "      <td>362.566434</td>\n",
       "      <td>316.481849</td>\n",
       "      <td>206.670097</td>\n",
       "      <td>59.137142</td>\n",
       "      <td>362.566434</td>\n",
       "      <td>496.757230</td>\n",
       "      <td>443.725289</td>\n",
       "      <td>37.067478</td>\n",
       "      <td>-41.864291</td>\n",
       "    </tr>\n",
       "    <tr>\n",
       "      <th>8927</th>\n",
       "      <td>1214421</td>\n",
       "      <td>148</td>\n",
       "      <td>41</td>\n",
       "      <td>2306</td>\n",
       "      <td>242.50</td>\n",
       "      <td>336.62</td>\n",
       "      <td>0</td>\n",
       "      <td>0</td>\n",
       "      <td>94.12</td>\n",
       "      <td>44</td>\n",
       "      <td>...</td>\n",
       "      <td>359.347830</td>\n",
       "      <td>362.566434</td>\n",
       "      <td>316.481849</td>\n",
       "      <td>206.670097</td>\n",
       "      <td>59.137142</td>\n",
       "      <td>362.566434</td>\n",
       "      <td>496.757230</td>\n",
       "      <td>443.725289</td>\n",
       "      <td>37.067478</td>\n",
       "      <td>-21.196830</td>\n",
       "    </tr>\n",
       "    <tr>\n",
       "      <th>...</th>\n",
       "      <td>...</td>\n",
       "      <td>...</td>\n",
       "      <td>...</td>\n",
       "      <td>...</td>\n",
       "      <td>...</td>\n",
       "      <td>...</td>\n",
       "      <td>...</td>\n",
       "      <td>...</td>\n",
       "      <td>...</td>\n",
       "      <td>...</td>\n",
       "      <td>...</td>\n",
       "      <td>...</td>\n",
       "      <td>...</td>\n",
       "      <td>...</td>\n",
       "      <td>...</td>\n",
       "      <td>...</td>\n",
       "      <td>...</td>\n",
       "      <td>...</td>\n",
       "      <td>...</td>\n",
       "      <td>...</td>\n",
       "      <td>...</td>\n",
       "    </tr>\n",
       "    <tr>\n",
       "      <th>20192</th>\n",
       "      <td>1414348</td>\n",
       "      <td>152</td>\n",
       "      <td>149</td>\n",
       "      <td>1216</td>\n",
       "      <td>413.25</td>\n",
       "      <td>412.25</td>\n",
       "      <td>0</td>\n",
       "      <td>0</td>\n",
       "      <td>-1.00</td>\n",
       "      <td>48</td>\n",
       "      <td>...</td>\n",
       "      <td>359.347830</td>\n",
       "      <td>126.972117</td>\n",
       "      <td>216.987835</td>\n",
       "      <td>262.394456</td>\n",
       "      <td>59.137142</td>\n",
       "      <td>126.972117</td>\n",
       "      <td>163.633676</td>\n",
       "      <td>290.038829</td>\n",
       "      <td>55.670259</td>\n",
       "      <td>-4.987749</td>\n",
       "    </tr>\n",
       "    <tr>\n",
       "      <th>20193</th>\n",
       "      <td>1269124</td>\n",
       "      <td>152</td>\n",
       "      <td>149</td>\n",
       "      <td>2126</td>\n",
       "      <td>508.31</td>\n",
       "      <td>507.31</td>\n",
       "      <td>0</td>\n",
       "      <td>0</td>\n",
       "      <td>-1.00</td>\n",
       "      <td>48</td>\n",
       "      <td>...</td>\n",
       "      <td>359.347830</td>\n",
       "      <td>126.972117</td>\n",
       "      <td>216.987835</td>\n",
       "      <td>262.394456</td>\n",
       "      <td>59.137142</td>\n",
       "      <td>126.972117</td>\n",
       "      <td>163.633676</td>\n",
       "      <td>290.038829</td>\n",
       "      <td>55.670259</td>\n",
       "      <td>-4.987749</td>\n",
       "    </tr>\n",
       "    <tr>\n",
       "      <th>20599</th>\n",
       "      <td>1464178</td>\n",
       "      <td>152</td>\n",
       "      <td>91</td>\n",
       "      <td>1216</td>\n",
       "      <td>418.13</td>\n",
       "      <td>416.13</td>\n",
       "      <td>0</td>\n",
       "      <td>0</td>\n",
       "      <td>-2.00</td>\n",
       "      <td>48</td>\n",
       "      <td>...</td>\n",
       "      <td>359.347830</td>\n",
       "      <td>362.566434</td>\n",
       "      <td>316.481849</td>\n",
       "      <td>206.670097</td>\n",
       "      <td>59.137142</td>\n",
       "      <td>362.566434</td>\n",
       "      <td>496.757230</td>\n",
       "      <td>443.725289</td>\n",
       "      <td>37.067478</td>\n",
       "      <td>-32.143705</td>\n",
       "    </tr>\n",
       "    <tr>\n",
       "      <th>20600</th>\n",
       "      <td>1039474</td>\n",
       "      <td>152</td>\n",
       "      <td>91</td>\n",
       "      <td>2126</td>\n",
       "      <td>507.31</td>\n",
       "      <td>507.31</td>\n",
       "      <td>0</td>\n",
       "      <td>0</td>\n",
       "      <td>0.00</td>\n",
       "      <td>48</td>\n",
       "      <td>...</td>\n",
       "      <td>359.347830</td>\n",
       "      <td>362.566434</td>\n",
       "      <td>316.481849</td>\n",
       "      <td>206.670097</td>\n",
       "      <td>59.137142</td>\n",
       "      <td>362.566434</td>\n",
       "      <td>496.757230</td>\n",
       "      <td>443.725289</td>\n",
       "      <td>37.067478</td>\n",
       "      <td>-32.143705</td>\n",
       "    </tr>\n",
       "    <tr>\n",
       "      <th>20608</th>\n",
       "      <td>1397433</td>\n",
       "      <td>152</td>\n",
       "      <td>91</td>\n",
       "      <td>1445</td>\n",
       "      <td>728.53</td>\n",
       "      <td>728.53</td>\n",
       "      <td>0</td>\n",
       "      <td>0</td>\n",
       "      <td>0.00</td>\n",
       "      <td>48</td>\n",
       "      <td>...</td>\n",
       "      <td>164.545348</td>\n",
       "      <td>362.566434</td>\n",
       "      <td>316.481849</td>\n",
       "      <td>206.670097</td>\n",
       "      <td>100.895898</td>\n",
       "      <td>362.566434</td>\n",
       "      <td>200.141932</td>\n",
       "      <td>187.098371</td>\n",
       "      <td>61.270519</td>\n",
       "      <td>-4.026873</td>\n",
       "    </tr>\n",
       "    <tr>\n",
       "      <th>20609</th>\n",
       "      <td>1356379</td>\n",
       "      <td>152</td>\n",
       "      <td>91</td>\n",
       "      <td>2444</td>\n",
       "      <td>728.53</td>\n",
       "      <td>728.53</td>\n",
       "      <td>0</td>\n",
       "      <td>0</td>\n",
       "      <td>0.00</td>\n",
       "      <td>48</td>\n",
       "      <td>...</td>\n",
       "      <td>164.545348</td>\n",
       "      <td>362.566434</td>\n",
       "      <td>316.481849</td>\n",
       "      <td>206.670097</td>\n",
       "      <td>100.895898</td>\n",
       "      <td>362.566434</td>\n",
       "      <td>200.141932</td>\n",
       "      <td>187.098371</td>\n",
       "      <td>61.270519</td>\n",
       "      <td>-4.026873</td>\n",
       "    </tr>\n",
       "    <tr>\n",
       "      <th>22009</th>\n",
       "      <td>1420413</td>\n",
       "      <td>152</td>\n",
       "      <td>41</td>\n",
       "      <td>1216</td>\n",
       "      <td>416.13</td>\n",
       "      <td>416.13</td>\n",
       "      <td>0</td>\n",
       "      <td>0</td>\n",
       "      <td>0.00</td>\n",
       "      <td>48</td>\n",
       "      <td>...</td>\n",
       "      <td>359.347830</td>\n",
       "      <td>362.566434</td>\n",
       "      <td>316.481849</td>\n",
       "      <td>206.670097</td>\n",
       "      <td>59.137142</td>\n",
       "      <td>362.566434</td>\n",
       "      <td>496.757230</td>\n",
       "      <td>443.725289</td>\n",
       "      <td>37.067478</td>\n",
       "      <td>-32.143705</td>\n",
       "    </tr>\n",
       "    <tr>\n",
       "      <th>22010</th>\n",
       "      <td>1364745</td>\n",
       "      <td>152</td>\n",
       "      <td>41</td>\n",
       "      <td>2126</td>\n",
       "      <td>509.31</td>\n",
       "      <td>509.31</td>\n",
       "      <td>0</td>\n",
       "      <td>0</td>\n",
       "      <td>0.00</td>\n",
       "      <td>48</td>\n",
       "      <td>...</td>\n",
       "      <td>359.347830</td>\n",
       "      <td>362.566434</td>\n",
       "      <td>316.481849</td>\n",
       "      <td>206.670097</td>\n",
       "      <td>59.137142</td>\n",
       "      <td>362.566434</td>\n",
       "      <td>496.757230</td>\n",
       "      <td>443.725289</td>\n",
       "      <td>37.067478</td>\n",
       "      <td>-32.143705</td>\n",
       "    </tr>\n",
       "    <tr>\n",
       "      <th>23858</th>\n",
       "      <td>1129429</td>\n",
       "      <td>153</td>\n",
       "      <td>91</td>\n",
       "      <td>1216</td>\n",
       "      <td>418.13</td>\n",
       "      <td>417.13</td>\n",
       "      <td>0</td>\n",
       "      <td>0</td>\n",
       "      <td>-1.00</td>\n",
       "      <td>49</td>\n",
       "      <td>...</td>\n",
       "      <td>359.347830</td>\n",
       "      <td>362.566434</td>\n",
       "      <td>316.481849</td>\n",
       "      <td>206.670097</td>\n",
       "      <td>59.137142</td>\n",
       "      <td>362.566434</td>\n",
       "      <td>496.757230</td>\n",
       "      <td>443.725289</td>\n",
       "      <td>37.067478</td>\n",
       "      <td>-32.143705</td>\n",
       "    </tr>\n",
       "    <tr>\n",
       "      <th>25259</th>\n",
       "      <td>1016268</td>\n",
       "      <td>153</td>\n",
       "      <td>41</td>\n",
       "      <td>2306</td>\n",
       "      <td>309.43</td>\n",
       "      <td>310.43</td>\n",
       "      <td>0</td>\n",
       "      <td>0</td>\n",
       "      <td>1.00</td>\n",
       "      <td>49</td>\n",
       "      <td>...</td>\n",
       "      <td>359.347830</td>\n",
       "      <td>362.566434</td>\n",
       "      <td>316.481849</td>\n",
       "      <td>206.670097</td>\n",
       "      <td>59.137142</td>\n",
       "      <td>362.566434</td>\n",
       "      <td>496.757230</td>\n",
       "      <td>443.725289</td>\n",
       "      <td>37.067478</td>\n",
       "      <td>-31.452692</td>\n",
       "    </tr>\n",
       "    <tr>\n",
       "      <th>25260</th>\n",
       "      <td>1342540</td>\n",
       "      <td>153</td>\n",
       "      <td>41</td>\n",
       "      <td>1216</td>\n",
       "      <td>417.13</td>\n",
       "      <td>416.13</td>\n",
       "      <td>0</td>\n",
       "      <td>0</td>\n",
       "      <td>-1.00</td>\n",
       "      <td>49</td>\n",
       "      <td>...</td>\n",
       "      <td>359.347830</td>\n",
       "      <td>362.566434</td>\n",
       "      <td>316.481849</td>\n",
       "      <td>206.670097</td>\n",
       "      <td>59.137142</td>\n",
       "      <td>362.566434</td>\n",
       "      <td>496.757230</td>\n",
       "      <td>443.725289</td>\n",
       "      <td>37.067478</td>\n",
       "      <td>-32.143705</td>\n",
       "    </tr>\n",
       "    <tr>\n",
       "      <th>25261</th>\n",
       "      <td>1217742</td>\n",
       "      <td>153</td>\n",
       "      <td>41</td>\n",
       "      <td>2126</td>\n",
       "      <td>508.31</td>\n",
       "      <td>507.31</td>\n",
       "      <td>0</td>\n",
       "      <td>0</td>\n",
       "      <td>-1.00</td>\n",
       "      <td>49</td>\n",
       "      <td>...</td>\n",
       "      <td>359.347830</td>\n",
       "      <td>362.566434</td>\n",
       "      <td>316.481849</td>\n",
       "      <td>206.670097</td>\n",
       "      <td>59.137142</td>\n",
       "      <td>362.566434</td>\n",
       "      <td>496.757230</td>\n",
       "      <td>443.725289</td>\n",
       "      <td>37.067478</td>\n",
       "      <td>-32.143705</td>\n",
       "    </tr>\n",
       "    <tr>\n",
       "      <th>26182</th>\n",
       "      <td>1294222</td>\n",
       "      <td>154</td>\n",
       "      <td>55</td>\n",
       "      <td>2306</td>\n",
       "      <td>345.32</td>\n",
       "      <td>347.32</td>\n",
       "      <td>0</td>\n",
       "      <td>0</td>\n",
       "      <td>2.00</td>\n",
       "      <td>50</td>\n",
       "      <td>...</td>\n",
       "      <td>359.347830</td>\n",
       "      <td>276.243387</td>\n",
       "      <td>316.481849</td>\n",
       "      <td>206.670097</td>\n",
       "      <td>59.137142</td>\n",
       "      <td>276.243387</td>\n",
       "      <td>405.613481</td>\n",
       "      <td>443.725289</td>\n",
       "      <td>37.067478</td>\n",
       "      <td>-0.246986</td>\n",
       "    </tr>\n",
       "    <tr>\n",
       "      <th>26702</th>\n",
       "      <td>1143714</td>\n",
       "      <td>154</td>\n",
       "      <td>149</td>\n",
       "      <td>1216</td>\n",
       "      <td>413.25</td>\n",
       "      <td>414.25</td>\n",
       "      <td>0</td>\n",
       "      <td>0</td>\n",
       "      <td>1.00</td>\n",
       "      <td>50</td>\n",
       "      <td>...</td>\n",
       "      <td>359.347830</td>\n",
       "      <td>126.972117</td>\n",
       "      <td>216.987835</td>\n",
       "      <td>262.394456</td>\n",
       "      <td>59.137142</td>\n",
       "      <td>126.972117</td>\n",
       "      <td>163.633676</td>\n",
       "      <td>290.038829</td>\n",
       "      <td>55.670259</td>\n",
       "      <td>-4.987749</td>\n",
       "    </tr>\n",
       "    <tr>\n",
       "      <th>26703</th>\n",
       "      <td>1300935</td>\n",
       "      <td>154</td>\n",
       "      <td>149</td>\n",
       "      <td>2126</td>\n",
       "      <td>507.31</td>\n",
       "      <td>509.31</td>\n",
       "      <td>0</td>\n",
       "      <td>0</td>\n",
       "      <td>2.00</td>\n",
       "      <td>50</td>\n",
       "      <td>...</td>\n",
       "      <td>359.347830</td>\n",
       "      <td>126.972117</td>\n",
       "      <td>216.987835</td>\n",
       "      <td>262.394456</td>\n",
       "      <td>59.137142</td>\n",
       "      <td>126.972117</td>\n",
       "      <td>163.633676</td>\n",
       "      <td>290.038829</td>\n",
       "      <td>55.670259</td>\n",
       "      <td>-4.987749</td>\n",
       "    </tr>\n",
       "    <tr>\n",
       "      <th>27121</th>\n",
       "      <td>1282502</td>\n",
       "      <td>154</td>\n",
       "      <td>91</td>\n",
       "      <td>2126</td>\n",
       "      <td>507.31</td>\n",
       "      <td>508.31</td>\n",
       "      <td>0</td>\n",
       "      <td>0</td>\n",
       "      <td>1.00</td>\n",
       "      <td>50</td>\n",
       "      <td>...</td>\n",
       "      <td>359.347830</td>\n",
       "      <td>362.566434</td>\n",
       "      <td>316.481849</td>\n",
       "      <td>206.670097</td>\n",
       "      <td>59.137142</td>\n",
       "      <td>362.566434</td>\n",
       "      <td>496.757230</td>\n",
       "      <td>443.725289</td>\n",
       "      <td>37.067478</td>\n",
       "      <td>-32.143705</td>\n",
       "    </tr>\n",
       "    <tr>\n",
       "      <th>28520</th>\n",
       "      <td>1394274</td>\n",
       "      <td>154</td>\n",
       "      <td>41</td>\n",
       "      <td>2306</td>\n",
       "      <td>328.86</td>\n",
       "      <td>328.86</td>\n",
       "      <td>0</td>\n",
       "      <td>0</td>\n",
       "      <td>0.00</td>\n",
       "      <td>50</td>\n",
       "      <td>...</td>\n",
       "      <td>359.347830</td>\n",
       "      <td>362.566434</td>\n",
       "      <td>316.481849</td>\n",
       "      <td>206.670097</td>\n",
       "      <td>59.137142</td>\n",
       "      <td>362.566434</td>\n",
       "      <td>496.757230</td>\n",
       "      <td>443.725289</td>\n",
       "      <td>37.067478</td>\n",
       "      <td>-39.233871</td>\n",
       "    </tr>\n",
       "    <tr>\n",
       "      <th>28521</th>\n",
       "      <td>1079649</td>\n",
       "      <td>154</td>\n",
       "      <td>41</td>\n",
       "      <td>1216</td>\n",
       "      <td>418.13</td>\n",
       "      <td>417.13</td>\n",
       "      <td>0</td>\n",
       "      <td>0</td>\n",
       "      <td>-1.00</td>\n",
       "      <td>50</td>\n",
       "      <td>...</td>\n",
       "      <td>359.347830</td>\n",
       "      <td>362.566434</td>\n",
       "      <td>316.481849</td>\n",
       "      <td>206.670097</td>\n",
       "      <td>59.137142</td>\n",
       "      <td>362.566434</td>\n",
       "      <td>496.757230</td>\n",
       "      <td>443.725289</td>\n",
       "      <td>37.067478</td>\n",
       "      <td>-32.143705</td>\n",
       "    </tr>\n",
       "    <tr>\n",
       "      <th>28522</th>\n",
       "      <td>1066010</td>\n",
       "      <td>154</td>\n",
       "      <td>41</td>\n",
       "      <td>2126</td>\n",
       "      <td>507.31</td>\n",
       "      <td>507.31</td>\n",
       "      <td>0</td>\n",
       "      <td>0</td>\n",
       "      <td>0.00</td>\n",
       "      <td>50</td>\n",
       "      <td>...</td>\n",
       "      <td>359.347830</td>\n",
       "      <td>362.566434</td>\n",
       "      <td>316.481849</td>\n",
       "      <td>206.670097</td>\n",
       "      <td>59.137142</td>\n",
       "      <td>362.566434</td>\n",
       "      <td>496.757230</td>\n",
       "      <td>443.725289</td>\n",
       "      <td>37.067478</td>\n",
       "      <td>-32.143705</td>\n",
       "    </tr>\n",
       "    <tr>\n",
       "      <th>29913</th>\n",
       "      <td>1474599</td>\n",
       "      <td>155</td>\n",
       "      <td>149</td>\n",
       "      <td>2306</td>\n",
       "      <td>337.62</td>\n",
       "      <td>336.62</td>\n",
       "      <td>0</td>\n",
       "      <td>0</td>\n",
       "      <td>-1.00</td>\n",
       "      <td>51</td>\n",
       "      <td>...</td>\n",
       "      <td>359.347830</td>\n",
       "      <td>126.972117</td>\n",
       "      <td>216.987835</td>\n",
       "      <td>262.394456</td>\n",
       "      <td>59.137142</td>\n",
       "      <td>126.972117</td>\n",
       "      <td>163.633676</td>\n",
       "      <td>290.038829</td>\n",
       "      <td>55.670259</td>\n",
       "      <td>-21.266881</td>\n",
       "    </tr>\n",
       "    <tr>\n",
       "      <th>29914</th>\n",
       "      <td>1471305</td>\n",
       "      <td>155</td>\n",
       "      <td>149</td>\n",
       "      <td>1216</td>\n",
       "      <td>413.25</td>\n",
       "      <td>414.25</td>\n",
       "      <td>0</td>\n",
       "      <td>0</td>\n",
       "      <td>1.00</td>\n",
       "      <td>51</td>\n",
       "      <td>...</td>\n",
       "      <td>359.347830</td>\n",
       "      <td>126.972117</td>\n",
       "      <td>216.987835</td>\n",
       "      <td>262.394456</td>\n",
       "      <td>59.137142</td>\n",
       "      <td>126.972117</td>\n",
       "      <td>163.633676</td>\n",
       "      <td>290.038829</td>\n",
       "      <td>55.670259</td>\n",
       "      <td>-21.266881</td>\n",
       "    </tr>\n",
       "    <tr>\n",
       "      <th>29924</th>\n",
       "      <td>1238277</td>\n",
       "      <td>155</td>\n",
       "      <td>149</td>\n",
       "      <td>2492</td>\n",
       "      <td>455.93</td>\n",
       "      <td>455.93</td>\n",
       "      <td>0</td>\n",
       "      <td>0</td>\n",
       "      <td>0.00</td>\n",
       "      <td>51</td>\n",
       "      <td>...</td>\n",
       "      <td>229.039037</td>\n",
       "      <td>126.972117</td>\n",
       "      <td>216.987835</td>\n",
       "      <td>262.394456</td>\n",
       "      <td>66.250905</td>\n",
       "      <td>126.972117</td>\n",
       "      <td>124.689115</td>\n",
       "      <td>191.124048</td>\n",
       "      <td>60.079682</td>\n",
       "      <td>-4.035423</td>\n",
       "    </tr>\n",
       "    <tr>\n",
       "      <th>29925</th>\n",
       "      <td>1266690</td>\n",
       "      <td>155</td>\n",
       "      <td>149</td>\n",
       "      <td>1543</td>\n",
       "      <td>482.09</td>\n",
       "      <td>482.09</td>\n",
       "      <td>0</td>\n",
       "      <td>0</td>\n",
       "      <td>0.00</td>\n",
       "      <td>51</td>\n",
       "      <td>...</td>\n",
       "      <td>229.039037</td>\n",
       "      <td>126.972117</td>\n",
       "      <td>216.987835</td>\n",
       "      <td>262.394456</td>\n",
       "      <td>66.250905</td>\n",
       "      <td>126.972117</td>\n",
       "      <td>124.689115</td>\n",
       "      <td>191.124048</td>\n",
       "      <td>60.079682</td>\n",
       "      <td>-4.035423</td>\n",
       "    </tr>\n",
       "    <tr>\n",
       "      <th>30311</th>\n",
       "      <td>1192832</td>\n",
       "      <td>155</td>\n",
       "      <td>91</td>\n",
       "      <td>2631</td>\n",
       "      <td>164.93</td>\n",
       "      <td>165.93</td>\n",
       "      <td>0</td>\n",
       "      <td>0</td>\n",
       "      <td>1.00</td>\n",
       "      <td>51</td>\n",
       "      <td>...</td>\n",
       "      <td>229.039037</td>\n",
       "      <td>362.566434</td>\n",
       "      <td>316.481849</td>\n",
       "      <td>206.670097</td>\n",
       "      <td>80.075061</td>\n",
       "      <td>362.566434</td>\n",
       "      <td>340.857299</td>\n",
       "      <td>275.756380</td>\n",
       "      <td>213.756094</td>\n",
       "      <td>-1.950741</td>\n",
       "    </tr>\n",
       "    <tr>\n",
       "      <th>30312</th>\n",
       "      <td>1139374</td>\n",
       "      <td>155</td>\n",
       "      <td>91</td>\n",
       "      <td>1248</td>\n",
       "      <td>164.93</td>\n",
       "      <td>163.93</td>\n",
       "      <td>0</td>\n",
       "      <td>0</td>\n",
       "      <td>-1.00</td>\n",
       "      <td>51</td>\n",
       "      <td>...</td>\n",
       "      <td>229.039037</td>\n",
       "      <td>362.566434</td>\n",
       "      <td>316.481849</td>\n",
       "      <td>206.670097</td>\n",
       "      <td>80.075061</td>\n",
       "      <td>362.566434</td>\n",
       "      <td>340.857299</td>\n",
       "      <td>275.756380</td>\n",
       "      <td>213.756094</td>\n",
       "      <td>-1.950741</td>\n",
       "    </tr>\n",
       "    <tr>\n",
       "      <th>30321</th>\n",
       "      <td>1173914</td>\n",
       "      <td>155</td>\n",
       "      <td>91</td>\n",
       "      <td>1216</td>\n",
       "      <td>416.13</td>\n",
       "      <td>418.13</td>\n",
       "      <td>0</td>\n",
       "      <td>0</td>\n",
       "      <td>2.00</td>\n",
       "      <td>51</td>\n",
       "      <td>...</td>\n",
       "      <td>359.347830</td>\n",
       "      <td>362.566434</td>\n",
       "      <td>316.481849</td>\n",
       "      <td>206.670097</td>\n",
       "      <td>59.137142</td>\n",
       "      <td>362.566434</td>\n",
       "      <td>496.757230</td>\n",
       "      <td>443.725289</td>\n",
       "      <td>37.067478</td>\n",
       "      <td>-48.422836</td>\n",
       "    </tr>\n",
       "    <tr>\n",
       "      <th>30329</th>\n",
       "      <td>1139943</td>\n",
       "      <td>155</td>\n",
       "      <td>91</td>\n",
       "      <td>2304</td>\n",
       "      <td>483.09</td>\n",
       "      <td>483.09</td>\n",
       "      <td>0</td>\n",
       "      <td>0</td>\n",
       "      <td>0.00</td>\n",
       "      <td>51</td>\n",
       "      <td>...</td>\n",
       "      <td>229.039037</td>\n",
       "      <td>362.566434</td>\n",
       "      <td>316.481849</td>\n",
       "      <td>206.670097</td>\n",
       "      <td>66.250905</td>\n",
       "      <td>362.566434</td>\n",
       "      <td>340.857299</td>\n",
       "      <td>275.756380</td>\n",
       "      <td>51.369761</td>\n",
       "      <td>-1.740394</td>\n",
       "    </tr>\n",
       "    <tr>\n",
       "      <th>31706</th>\n",
       "      <td>1108218</td>\n",
       "      <td>155</td>\n",
       "      <td>41</td>\n",
       "      <td>2126</td>\n",
       "      <td>508.31</td>\n",
       "      <td>509.31</td>\n",
       "      <td>0</td>\n",
       "      <td>0</td>\n",
       "      <td>1.00</td>\n",
       "      <td>51</td>\n",
       "      <td>...</td>\n",
       "      <td>359.347830</td>\n",
       "      <td>362.566434</td>\n",
       "      <td>316.481849</td>\n",
       "      <td>206.670097</td>\n",
       "      <td>59.137142</td>\n",
       "      <td>362.566434</td>\n",
       "      <td>496.757230</td>\n",
       "      <td>443.725289</td>\n",
       "      <td>37.067478</td>\n",
       "      <td>-48.422836</td>\n",
       "    </tr>\n",
       "    <tr>\n",
       "      <th>31717</th>\n",
       "      <td>1189803</td>\n",
       "      <td>155</td>\n",
       "      <td>41</td>\n",
       "      <td>1543</td>\n",
       "      <td>483.09</td>\n",
       "      <td>482.09</td>\n",
       "      <td>0</td>\n",
       "      <td>0</td>\n",
       "      <td>-1.00</td>\n",
       "      <td>51</td>\n",
       "      <td>...</td>\n",
       "      <td>229.039037</td>\n",
       "      <td>362.566434</td>\n",
       "      <td>316.481849</td>\n",
       "      <td>206.670097</td>\n",
       "      <td>66.250905</td>\n",
       "      <td>362.566434</td>\n",
       "      <td>340.857299</td>\n",
       "      <td>275.756380</td>\n",
       "      <td>51.369761</td>\n",
       "      <td>-1.740394</td>\n",
       "    </tr>\n",
       "    <tr>\n",
       "      <th>31718</th>\n",
       "      <td>1248566</td>\n",
       "      <td>155</td>\n",
       "      <td>41</td>\n",
       "      <td>2304</td>\n",
       "      <td>482.09</td>\n",
       "      <td>482.09</td>\n",
       "      <td>0</td>\n",
       "      <td>0</td>\n",
       "      <td>0.00</td>\n",
       "      <td>51</td>\n",
       "      <td>...</td>\n",
       "      <td>229.039037</td>\n",
       "      <td>362.566434</td>\n",
       "      <td>316.481849</td>\n",
       "      <td>206.670097</td>\n",
       "      <td>66.250905</td>\n",
       "      <td>362.566434</td>\n",
       "      <td>340.857299</td>\n",
       "      <td>275.756380</td>\n",
       "      <td>51.369761</td>\n",
       "      <td>-1.740394</td>\n",
       "    </tr>\n",
       "  </tbody>\n",
       "</table>\n",
       "<p>88 rows × 36 columns</p>\n",
       "</div>"
      ],
      "text/plain": [
       "            id  week  center_id  meal_id  checkout_price  base_price  \\\n",
       "531    1164653   146        149     1216          412.25      412.25   \n",
       "532    1444590   146        149     2126          472.42      471.42   \n",
       "536    1177147   146        149     1247          445.23      447.23   \n",
       "537    1455218   146        149     1770          425.83      486.03   \n",
       "541    1045506   146        149     2444          726.53      727.53   \n",
       "544    1008295   146        149     2492          456.93      456.93   \n",
       "545    1406978   146        149     1543          466.57      467.57   \n",
       "546    1470180   146        149     2304          482.09      482.09   \n",
       "2354   1350206   146         41     1216          416.13      418.13   \n",
       "2355   1276836   146         41     2126          484.03      485.03   \n",
       "2365   1303550   146         41     1543          486.03      484.03   \n",
       "2366   1197899   146         41     2304          484.03      485.03   \n",
       "3258   1221607   147         55     2126          485.03      486.03   \n",
       "3771   1486308   147        149     2306          241.53      336.62   \n",
       "3772   1293396   147        149     1216          413.25      413.25   \n",
       "3773   1399766   147        149     2126          437.53      435.53   \n",
       "3782   1406013   147        149     2492          455.93      456.93   \n",
       "3783   1371746   147        149     1543          389.03      467.57   \n",
       "3784   1107668   147        149     2304          387.03      482.09   \n",
       "4191   1435029   147         91     1216          416.13      417.13   \n",
       "5609   1495173   147         41     1216          417.13      416.13   \n",
       "5613   1010331   147         41     1247          445.23      446.23   \n",
       "7048   1272003   148        149     1216          413.25      412.25   \n",
       "7049   1115507   148        149     2126          437.53      436.53   \n",
       "7053   1051057   148        149     1247          447.23      446.23   \n",
       "7054   1312752   148        149     1770          425.83      485.03   \n",
       "7062   1161177   148        149     2492          455.93      454.93   \n",
       "7475   1268871   148         91     1216          418.13      416.13   \n",
       "7476   1297532   148         91     2126          484.03      485.03   \n",
       "8927   1214421   148         41     2306          242.50      336.62   \n",
       "...        ...   ...        ...      ...             ...         ...   \n",
       "20192  1414348   152        149     1216          413.25      412.25   \n",
       "20193  1269124   152        149     2126          508.31      507.31   \n",
       "20599  1464178   152         91     1216          418.13      416.13   \n",
       "20600  1039474   152         91     2126          507.31      507.31   \n",
       "20608  1397433   152         91     1445          728.53      728.53   \n",
       "20609  1356379   152         91     2444          728.53      728.53   \n",
       "22009  1420413   152         41     1216          416.13      416.13   \n",
       "22010  1364745   152         41     2126          509.31      509.31   \n",
       "23858  1129429   153         91     1216          418.13      417.13   \n",
       "25259  1016268   153         41     2306          309.43      310.43   \n",
       "25260  1342540   153         41     1216          417.13      416.13   \n",
       "25261  1217742   153         41     2126          508.31      507.31   \n",
       "26182  1294222   154         55     2306          345.32      347.32   \n",
       "26702  1143714   154        149     1216          413.25      414.25   \n",
       "26703  1300935   154        149     2126          507.31      509.31   \n",
       "27121  1282502   154         91     2126          507.31      508.31   \n",
       "28520  1394274   154         41     2306          328.86      328.86   \n",
       "28521  1079649   154         41     1216          418.13      417.13   \n",
       "28522  1066010   154         41     2126          507.31      507.31   \n",
       "29913  1474599   155        149     2306          337.62      336.62   \n",
       "29914  1471305   155        149     1216          413.25      414.25   \n",
       "29924  1238277   155        149     2492          455.93      455.93   \n",
       "29925  1266690   155        149     1543          482.09      482.09   \n",
       "30311  1192832   155         91     2631          164.93      165.93   \n",
       "30312  1139374   155         91     1248          164.93      163.93   \n",
       "30321  1173914   155         91     1216          416.13      418.13   \n",
       "30329  1139943   155         91     2304          483.09      483.09   \n",
       "31706  1108218   155         41     2126          508.31      509.31   \n",
       "31717  1189803   155         41     1543          483.09      482.09   \n",
       "31718  1248566   155         41     2304          482.09      482.09   \n",
       "\n",
       "      emailer_for_promotion homepage_featured  actual_discount  week_as_year  \\\n",
       "531                       0                 0             0.00            42   \n",
       "532                       0                 0            -1.00            42   \n",
       "536                       0                 0             2.00            42   \n",
       "537                       0                 0            60.20            42   \n",
       "541                       0                 0             1.00            42   \n",
       "544                       0                 0             0.00            42   \n",
       "545                       0                 0             1.00            42   \n",
       "546                       0                 0             0.00            42   \n",
       "2354                      0                 0             2.00            42   \n",
       "2355                      0                 0             1.00            42   \n",
       "2365                      0                 0            -2.00            42   \n",
       "2366                      0                 0             1.00            42   \n",
       "3258                      0                 0             1.00            43   \n",
       "3771                      0                 0            95.09            43   \n",
       "3772                      0                 0             0.00            43   \n",
       "3773                      0                 0            -2.00            43   \n",
       "3782                      0                 0             1.00            43   \n",
       "3783                      0                 0            78.54            43   \n",
       "3784                      0                 0            95.06            43   \n",
       "4191                      0                 0             1.00            43   \n",
       "5609                      0                 0            -1.00            43   \n",
       "5613                      0                 0             1.00            43   \n",
       "7048                      0                 0            -1.00            44   \n",
       "7049                      0                 0            -1.00            44   \n",
       "7053                      0                 0            -1.00            44   \n",
       "7054                      0                 0            59.20            44   \n",
       "7062                      0                 0            -1.00            44   \n",
       "7475                      0                 0            -2.00            44   \n",
       "7476                      0                 0             1.00            44   \n",
       "8927                      0                 0            94.12            44   \n",
       "...                     ...               ...              ...           ...   \n",
       "20192                     0                 0            -1.00            48   \n",
       "20193                     0                 0            -1.00            48   \n",
       "20599                     0                 0            -2.00            48   \n",
       "20600                     0                 0             0.00            48   \n",
       "20608                     0                 0             0.00            48   \n",
       "20609                     0                 0             0.00            48   \n",
       "22009                     0                 0             0.00            48   \n",
       "22010                     0                 0             0.00            48   \n",
       "23858                     0                 0            -1.00            49   \n",
       "25259                     0                 0             1.00            49   \n",
       "25260                     0                 0            -1.00            49   \n",
       "25261                     0                 0            -1.00            49   \n",
       "26182                     0                 0             2.00            50   \n",
       "26702                     0                 0             1.00            50   \n",
       "26703                     0                 0             2.00            50   \n",
       "27121                     0                 0             1.00            50   \n",
       "28520                     0                 0             0.00            50   \n",
       "28521                     0                 0            -1.00            50   \n",
       "28522                     0                 0             0.00            50   \n",
       "29913                     0                 0            -1.00            51   \n",
       "29914                     0                 0             1.00            51   \n",
       "29924                     0                 0             0.00            51   \n",
       "29925                     0                 0             0.00            51   \n",
       "30311                     0                 0             1.00            51   \n",
       "30312                     0                 0            -1.00            51   \n",
       "30321                     0                 0             2.00            51   \n",
       "30329                     0                 0             0.00            51   \n",
       "31706                     0                 0             1.00            51   \n",
       "31717                     0                 0            -1.00            51   \n",
       "31718                     0                 0             0.00            51   \n",
       "\n",
       "         ...     cuisine_history city_code_history region_code_history  \\\n",
       "531      ...          359.347830        126.972117          216.987835   \n",
       "532      ...          359.347830        126.972117          216.987835   \n",
       "536      ...          229.039037        126.972117          216.987835   \n",
       "537      ...          229.039037        126.972117          216.987835   \n",
       "541      ...          164.545348        126.972117          216.987835   \n",
       "544      ...          229.039037        126.972117          216.987835   \n",
       "545      ...          229.039037        126.972117          216.987835   \n",
       "546      ...          229.039037        126.972117          216.987835   \n",
       "2354     ...          359.347830        362.566434          316.481849   \n",
       "2355     ...          359.347830        362.566434          316.481849   \n",
       "2365     ...          229.039037        362.566434          316.481849   \n",
       "2366     ...          229.039037        362.566434          316.481849   \n",
       "3258     ...          359.347830        276.243387          316.481849   \n",
       "3771     ...          359.347830        126.972117          216.987835   \n",
       "3772     ...          359.347830        126.972117          216.987835   \n",
       "3773     ...          359.347830        126.972117          216.987835   \n",
       "3782     ...          229.039037        126.972117          216.987835   \n",
       "3783     ...          229.039037        126.972117          216.987835   \n",
       "3784     ...          229.039037        126.972117          216.987835   \n",
       "4191     ...          359.347830        362.566434          316.481849   \n",
       "5609     ...          359.347830        362.566434          316.481849   \n",
       "5613     ...          229.039037        362.566434          316.481849   \n",
       "7048     ...          359.347830        126.972117          216.987835   \n",
       "7049     ...          359.347830        126.972117          216.987835   \n",
       "7053     ...          229.039037        126.972117          216.987835   \n",
       "7054     ...          229.039037        126.972117          216.987835   \n",
       "7062     ...          229.039037        126.972117          216.987835   \n",
       "7475     ...          359.347830        362.566434          316.481849   \n",
       "7476     ...          359.347830        362.566434          316.481849   \n",
       "8927     ...          359.347830        362.566434          316.481849   \n",
       "...      ...                 ...               ...                 ...   \n",
       "20192    ...          359.347830        126.972117          216.987835   \n",
       "20193    ...          359.347830        126.972117          216.987835   \n",
       "20599    ...          359.347830        362.566434          316.481849   \n",
       "20600    ...          359.347830        362.566434          316.481849   \n",
       "20608    ...          164.545348        362.566434          316.481849   \n",
       "20609    ...          164.545348        362.566434          316.481849   \n",
       "22009    ...          359.347830        362.566434          316.481849   \n",
       "22010    ...          359.347830        362.566434          316.481849   \n",
       "23858    ...          359.347830        362.566434          316.481849   \n",
       "25259    ...          359.347830        362.566434          316.481849   \n",
       "25260    ...          359.347830        362.566434          316.481849   \n",
       "25261    ...          359.347830        362.566434          316.481849   \n",
       "26182    ...          359.347830        276.243387          316.481849   \n",
       "26702    ...          359.347830        126.972117          216.987835   \n",
       "26703    ...          359.347830        126.972117          216.987835   \n",
       "27121    ...          359.347830        362.566434          316.481849   \n",
       "28520    ...          359.347830        362.566434          316.481849   \n",
       "28521    ...          359.347830        362.566434          316.481849   \n",
       "28522    ...          359.347830        362.566434          316.481849   \n",
       "29913    ...          359.347830        126.972117          216.987835   \n",
       "29914    ...          359.347830        126.972117          216.987835   \n",
       "29924    ...          229.039037        126.972117          216.987835   \n",
       "29925    ...          229.039037        126.972117          216.987835   \n",
       "30311    ...          229.039037        362.566434          316.481849   \n",
       "30312    ...          229.039037        362.566434          316.481849   \n",
       "30321    ...          359.347830        362.566434          316.481849   \n",
       "30329    ...          229.039037        362.566434          316.481849   \n",
       "31706    ...          359.347830        362.566434          316.481849   \n",
       "31717    ...          229.039037        362.566434          316.481849   \n",
       "31718    ...          229.039037        362.566434          316.481849   \n",
       "\n",
       "      center_type_history cuisine_category_history  \\\n",
       "531            262.394456                59.137142   \n",
       "532            262.394456                59.137142   \n",
       "536            262.394456                30.651402   \n",
       "537            262.394456                30.651402   \n",
       "541            262.394456               100.895898   \n",
       "544            262.394456                66.250905   \n",
       "545            262.394456                66.250905   \n",
       "546            262.394456                66.250905   \n",
       "2354           206.670097                59.137142   \n",
       "2355           206.670097                59.137142   \n",
       "2365           206.670097                66.250905   \n",
       "2366           206.670097                66.250905   \n",
       "3258           206.670097                59.137142   \n",
       "3771           262.394456                59.137142   \n",
       "3772           262.394456                59.137142   \n",
       "3773           262.394456                59.137142   \n",
       "3782           262.394456                66.250905   \n",
       "3783           262.394456                66.250905   \n",
       "3784           262.394456                66.250905   \n",
       "4191           206.670097                59.137142   \n",
       "5609           206.670097                59.137142   \n",
       "5613           206.670097                30.651402   \n",
       "7048           262.394456                59.137142   \n",
       "7049           262.394456                59.137142   \n",
       "7053           262.394456                30.651402   \n",
       "7054           262.394456                30.651402   \n",
       "7062           262.394456                66.250905   \n",
       "7475           206.670097                59.137142   \n",
       "7476           206.670097                59.137142   \n",
       "8927           206.670097                59.137142   \n",
       "...                   ...                      ...   \n",
       "20192          262.394456                59.137142   \n",
       "20193          262.394456                59.137142   \n",
       "20599          206.670097                59.137142   \n",
       "20600          206.670097                59.137142   \n",
       "20608          206.670097               100.895898   \n",
       "20609          206.670097               100.895898   \n",
       "22009          206.670097                59.137142   \n",
       "22010          206.670097                59.137142   \n",
       "23858          206.670097                59.137142   \n",
       "25259          206.670097                59.137142   \n",
       "25260          206.670097                59.137142   \n",
       "25261          206.670097                59.137142   \n",
       "26182          206.670097                59.137142   \n",
       "26702          262.394456                59.137142   \n",
       "26703          262.394456                59.137142   \n",
       "27121          206.670097                59.137142   \n",
       "28520          206.670097                59.137142   \n",
       "28521          206.670097                59.137142   \n",
       "28522          206.670097                59.137142   \n",
       "29913          262.394456                59.137142   \n",
       "29914          262.394456                59.137142   \n",
       "29924          262.394456                66.250905   \n",
       "29925          262.394456                66.250905   \n",
       "30311          206.670097                80.075061   \n",
       "30312          206.670097                80.075061   \n",
       "30321          206.670097                59.137142   \n",
       "30329          206.670097                66.250905   \n",
       "31706          206.670097                59.137142   \n",
       "31717          206.670097                66.250905   \n",
       "31718          206.670097                66.250905   \n",
       "\n",
       "       region_code_city_code_history city_code_cuisine_history  \\\n",
       "531                       126.972117                163.633676   \n",
       "532                       126.972117                163.633676   \n",
       "536                       126.972117                124.689115   \n",
       "537                       126.972117                124.689115   \n",
       "541                       126.972117                 90.210285   \n",
       "544                       126.972117                124.689115   \n",
       "545                       126.972117                124.689115   \n",
       "546                       126.972117                124.689115   \n",
       "2354                      362.566434                496.757230   \n",
       "2355                      362.566434                496.757230   \n",
       "2365                      362.566434                340.857299   \n",
       "2366                      362.566434                340.857299   \n",
       "3258                      276.243387                405.613481   \n",
       "3771                      126.972117                163.633676   \n",
       "3772                      126.972117                163.633676   \n",
       "3773                      126.972117                163.633676   \n",
       "3782                      126.972117                124.689115   \n",
       "3783                      126.972117                124.689115   \n",
       "3784                      126.972117                124.689115   \n",
       "4191                      362.566434                496.757230   \n",
       "5609                      362.566434                496.757230   \n",
       "5613                      362.566434                340.857299   \n",
       "7048                      126.972117                163.633676   \n",
       "7049                      126.972117                163.633676   \n",
       "7053                      126.972117                124.689115   \n",
       "7054                      126.972117                124.689115   \n",
       "7062                      126.972117                124.689115   \n",
       "7475                      362.566434                496.757230   \n",
       "7476                      362.566434                496.757230   \n",
       "8927                      362.566434                496.757230   \n",
       "...                              ...                       ...   \n",
       "20192                     126.972117                163.633676   \n",
       "20193                     126.972117                163.633676   \n",
       "20599                     362.566434                496.757230   \n",
       "20600                     362.566434                496.757230   \n",
       "20608                     362.566434                200.141932   \n",
       "20609                     362.566434                200.141932   \n",
       "22009                     362.566434                496.757230   \n",
       "22010                     362.566434                496.757230   \n",
       "23858                     362.566434                496.757230   \n",
       "25259                     362.566434                496.757230   \n",
       "25260                     362.566434                496.757230   \n",
       "25261                     362.566434                496.757230   \n",
       "26182                     276.243387                405.613481   \n",
       "26702                     126.972117                163.633676   \n",
       "26703                     126.972117                163.633676   \n",
       "27121                     362.566434                496.757230   \n",
       "28520                     362.566434                496.757230   \n",
       "28521                     362.566434                496.757230   \n",
       "28522                     362.566434                496.757230   \n",
       "29913                     126.972117                163.633676   \n",
       "29914                     126.972117                163.633676   \n",
       "29924                     126.972117                124.689115   \n",
       "29925                     126.972117                124.689115   \n",
       "30311                     362.566434                340.857299   \n",
       "30312                     362.566434                340.857299   \n",
       "30321                     362.566434                496.757230   \n",
       "30329                     362.566434                340.857299   \n",
       "31706                     362.566434                496.757230   \n",
       "31717                     362.566434                340.857299   \n",
       "31718                     362.566434                340.857299   \n",
       "\n",
       "      region_code_cuisine_history center_type_category_history num_orders  \n",
       "531                    290.038829                    55.670259 -17.289382  \n",
       "532                    290.038829                    55.670259 -17.289382  \n",
       "536                    191.124048                    28.041888 -11.615252  \n",
       "537                    191.124048                    28.041888  -5.050596  \n",
       "541                    144.771886                   101.888499  -3.996517  \n",
       "544                    191.124048                    60.079682  -8.734577  \n",
       "545                    191.124048                    60.079682  -8.734577  \n",
       "546                    191.124048                    60.079682  -8.734577  \n",
       "2354                   443.725289                    37.067478 -41.864291  \n",
       "2355                   443.725289                    37.067478 -41.864291  \n",
       "2365                   275.756380                    51.369761  -3.858502  \n",
       "2366                   275.756380                    51.369761  -3.858502  \n",
       "3258                   443.725289                    37.067478  -7.194812  \n",
       "3771                   290.038829                    55.670259 -10.144801  \n",
       "3772                   290.038829                    55.670259 -17.289382  \n",
       "3773                   290.038829                    55.670259 -17.289382  \n",
       "3782                   191.124048                    60.079682  -8.734577  \n",
       "3783                   191.124048                    60.079682  -2.169921  \n",
       "3784                   191.124048                    60.079682  -2.169921  \n",
       "4191                   443.725289                    37.067478 -41.864291  \n",
       "5609                   443.725289                    37.067478 -41.864291  \n",
       "5613                   275.756380                    19.164824  -6.392717  \n",
       "7048                   290.038829                    55.670259 -17.289382  \n",
       "7049                   290.038829                    55.670259 -17.289382  \n",
       "7053                   191.124048                    28.041888 -11.615252  \n",
       "7054                   191.124048                    28.041888  -5.050596  \n",
       "7062                   191.124048                    60.079682  -8.734577  \n",
       "7475                   443.725289                    37.067478 -41.864291  \n",
       "7476                   443.725289                    37.067478 -41.864291  \n",
       "8927                   443.725289                    37.067478 -21.196830  \n",
       "...                           ...                          ...        ...  \n",
       "20192                  290.038829                    55.670259  -4.987749  \n",
       "20193                  290.038829                    55.670259  -4.987749  \n",
       "20599                  443.725289                    37.067478 -32.143705  \n",
       "20600                  443.725289                    37.067478 -32.143705  \n",
       "20608                  187.098371                    61.270519  -4.026873  \n",
       "20609                  187.098371                    61.270519  -4.026873  \n",
       "22009                  443.725289                    37.067478 -32.143705  \n",
       "22010                  443.725289                    37.067478 -32.143705  \n",
       "23858                  443.725289                    37.067478 -32.143705  \n",
       "25259                  443.725289                    37.067478 -31.452692  \n",
       "25260                  443.725289                    37.067478 -32.143705  \n",
       "25261                  443.725289                    37.067478 -32.143705  \n",
       "26182                  443.725289                    37.067478  -0.246986  \n",
       "26702                  290.038829                    55.670259  -4.987749  \n",
       "26703                  290.038829                    55.670259  -4.987749  \n",
       "27121                  443.725289                    37.067478 -32.143705  \n",
       "28520                  443.725289                    37.067478 -39.233871  \n",
       "28521                  443.725289                    37.067478 -32.143705  \n",
       "28522                  443.725289                    37.067478 -32.143705  \n",
       "29913                  290.038829                    55.670259 -21.266881  \n",
       "29914                  290.038829                    55.670259 -21.266881  \n",
       "29924                  191.124048                    60.079682  -4.035423  \n",
       "29925                  191.124048                    60.079682  -4.035423  \n",
       "30311                  275.756380                   213.756094  -1.950741  \n",
       "30312                  275.756380                   213.756094  -1.950741  \n",
       "30321                  443.725289                    37.067478 -48.422836  \n",
       "30329                  275.756380                    51.369761  -1.740394  \n",
       "31706                  443.725289                    37.067478 -48.422836  \n",
       "31717                  275.756380                    51.369761  -1.740394  \n",
       "31718                  275.756380                    51.369761  -1.740394  \n",
       "\n",
       "[88 rows x 36 columns]"
      ]
     },
     "execution_count": 304,
     "metadata": {},
     "output_type": "execute_result"
    }
   ],
   "source": [
    "test[test['num_orders']<0]"
   ]
  },
  {
   "cell_type": "code",
   "execution_count": 392,
   "metadata": {
    "collapsed": false
   },
   "outputs": [],
   "source": [
    "importance=pd.DataFrame()\n",
    "importance['features']=features\n",
    "importance['importances']=rfc.feature_importances_"
   ]
  },
  {
   "cell_type": "code",
   "execution_count": 393,
   "metadata": {
    "collapsed": false
   },
   "outputs": [
    {
     "data": {
      "text/html": [
       "<div>\n",
       "<style>\n",
       "    .dataframe thead tr:only-child th {\n",
       "        text-align: right;\n",
       "    }\n",
       "\n",
       "    .dataframe thead th {\n",
       "        text-align: left;\n",
       "    }\n",
       "\n",
       "    .dataframe tbody tr th {\n",
       "        vertical-align: top;\n",
       "    }\n",
       "</style>\n",
       "<table border=\"1\" class=\"dataframe\">\n",
       "  <thead>\n",
       "    <tr style=\"text-align: right;\">\n",
       "      <th></th>\n",
       "      <th>features</th>\n",
       "      <th>importances</th>\n",
       "    </tr>\n",
       "  </thead>\n",
       "  <tbody>\n",
       "    <tr>\n",
       "      <th>8</th>\n",
       "      <td>cuisine_history</td>\n",
       "      <td>0.010197</td>\n",
       "    </tr>\n",
       "    <tr>\n",
       "      <th>7</th>\n",
       "      <td>category_history</td>\n",
       "      <td>0.011110</td>\n",
       "    </tr>\n",
       "    <tr>\n",
       "      <th>10</th>\n",
       "      <td>region_code_history</td>\n",
       "      <td>0.011846</td>\n",
       "    </tr>\n",
       "    <tr>\n",
       "      <th>11</th>\n",
       "      <td>center_type_history</td>\n",
       "      <td>0.012052</td>\n",
       "    </tr>\n",
       "    <tr>\n",
       "      <th>16</th>\n",
       "      <td>region_code_cuisine_history</td>\n",
       "      <td>0.013780</td>\n",
       "    </tr>\n",
       "    <tr>\n",
       "      <th>19</th>\n",
       "      <td>checkout_price_region_wise</td>\n",
       "      <td>0.020095</td>\n",
       "    </tr>\n",
       "    <tr>\n",
       "      <th>14</th>\n",
       "      <td>region_code_city_code_history</td>\n",
       "      <td>0.027948</td>\n",
       "    </tr>\n",
       "    <tr>\n",
       "      <th>6</th>\n",
       "      <td>week_as_year</td>\n",
       "      <td>0.028705</td>\n",
       "    </tr>\n",
       "    <tr>\n",
       "      <th>18</th>\n",
       "      <td>checkout_price_city_wise</td>\n",
       "      <td>0.029844</td>\n",
       "    </tr>\n",
       "    <tr>\n",
       "      <th>2</th>\n",
       "      <td>base_price</td>\n",
       "      <td>0.030007</td>\n",
       "    </tr>\n",
       "    <tr>\n",
       "      <th>20</th>\n",
       "      <td>op_area_city_wise</td>\n",
       "      <td>0.033734</td>\n",
       "    </tr>\n",
       "    <tr>\n",
       "      <th>15</th>\n",
       "      <td>city_code_cuisine_history</td>\n",
       "      <td>0.035140</td>\n",
       "    </tr>\n",
       "    <tr>\n",
       "      <th>1</th>\n",
       "      <td>checkout_price</td>\n",
       "      <td>0.035543</td>\n",
       "    </tr>\n",
       "    <tr>\n",
       "      <th>17</th>\n",
       "      <td>center_type_category_history</td>\n",
       "      <td>0.036533</td>\n",
       "    </tr>\n",
       "    <tr>\n",
       "      <th>0</th>\n",
       "      <td>week</td>\n",
       "      <td>0.044254</td>\n",
       "    </tr>\n",
       "    <tr>\n",
       "      <th>9</th>\n",
       "      <td>city_code_history</td>\n",
       "      <td>0.046986</td>\n",
       "    </tr>\n",
       "    <tr>\n",
       "      <th>4</th>\n",
       "      <td>emailer_for_promotion_history</td>\n",
       "      <td>0.047169</td>\n",
       "    </tr>\n",
       "    <tr>\n",
       "      <th>12</th>\n",
       "      <td>op_area</td>\n",
       "      <td>0.063562</td>\n",
       "    </tr>\n",
       "    <tr>\n",
       "      <th>3</th>\n",
       "      <td>actual_discount</td>\n",
       "      <td>0.084006</td>\n",
       "    </tr>\n",
       "    <tr>\n",
       "      <th>5</th>\n",
       "      <td>homepage_featured_history</td>\n",
       "      <td>0.141474</td>\n",
       "    </tr>\n",
       "    <tr>\n",
       "      <th>13</th>\n",
       "      <td>cuisine_category_history</td>\n",
       "      <td>0.236016</td>\n",
       "    </tr>\n",
       "  </tbody>\n",
       "</table>\n",
       "</div>"
      ],
      "text/plain": [
       "                         features  importances\n",
       "8                 cuisine_history     0.010197\n",
       "7                category_history     0.011110\n",
       "10            region_code_history     0.011846\n",
       "11            center_type_history     0.012052\n",
       "16    region_code_cuisine_history     0.013780\n",
       "19     checkout_price_region_wise     0.020095\n",
       "14  region_code_city_code_history     0.027948\n",
       "6                    week_as_year     0.028705\n",
       "18       checkout_price_city_wise     0.029844\n",
       "2                      base_price     0.030007\n",
       "20              op_area_city_wise     0.033734\n",
       "15      city_code_cuisine_history     0.035140\n",
       "1                  checkout_price     0.035543\n",
       "17   center_type_category_history     0.036533\n",
       "0                            week     0.044254\n",
       "9               city_code_history     0.046986\n",
       "4   emailer_for_promotion_history     0.047169\n",
       "12                        op_area     0.063562\n",
       "3                 actual_discount     0.084006\n",
       "5       homepage_featured_history     0.141474\n",
       "13       cuisine_category_history     0.236016"
      ]
     },
     "execution_count": 393,
     "metadata": {},
     "output_type": "execute_result"
    }
   ],
   "source": [
    "importance.sort_values(by='importances')"
   ]
  },
  {
   "cell_type": "code",
   "execution_count": 420,
   "metadata": {
    "collapsed": false
   },
   "outputs": [],
   "source": [
    "test[['id','num_orders']].to_csv('predictions7.csv',index=False)"
   ]
  },
  {
   "cell_type": "code",
   "execution_count": 286,
   "metadata": {
    "collapsed": false
   },
   "outputs": [],
   "source": [
    "#mean_squared_log_error(test[output],predictions)#0.40 on validation "
   ]
  },
  {
   "cell_type": "code",
   "execution_count": null,
   "metadata": {
    "collapsed": true
   },
   "outputs": [],
   "source": []
  },
  {
   "cell_type": "code",
   "execution_count": null,
   "metadata": {
    "collapsed": true
   },
   "outputs": [],
   "source": []
  },
  {
   "cell_type": "code",
   "execution_count": null,
   "metadata": {
    "collapsed": true
   },
   "outputs": [],
   "source": []
  },
  {
   "cell_type": "code",
   "execution_count": null,
   "metadata": {
    "collapsed": true
   },
   "outputs": [],
   "source": []
  },
  {
   "cell_type": "code",
   "execution_count": null,
   "metadata": {
    "collapsed": true
   },
   "outputs": [],
   "source": []
  },
  {
   "cell_type": "code",
   "execution_count": null,
   "metadata": {
    "collapsed": true
   },
   "outputs": [],
   "source": []
  },
  {
   "cell_type": "code",
   "execution_count": null,
   "metadata": {
    "collapsed": true
   },
   "outputs": [],
   "source": []
  },
  {
   "cell_type": "code",
   "execution_count": null,
   "metadata": {
    "collapsed": true
   },
   "outputs": [],
   "source": []
  },
  {
   "cell_type": "code",
   "execution_count": null,
   "metadata": {
    "collapsed": true
   },
   "outputs": [],
   "source": [
    "disputes_history['FIN_KUNNR_hist_group']=disputes_history['FIN_KUNNR_hist_group']\n",
    "avg_dispute_amount_per_customer = disputes_history.groupby('FIN_KUNNR_hist_group').agg({'FIN_ORIGINAL_AMT':'mean'})\n",
    "avg_dispute_amount_per_customer.reset_index(inplace=True)\n",
    "avg_dispute_amount_per_customer.columns=['FIN_KUNNR_hist_group','avg_dispute_amount_per_customer']\n",
    "avg_invalid_dispute_amount_per_customer = disputes_history[disputes_history['main_output'] == 0].groupby('FIN_KUNNR_hist_group').agg({'FIN_ORIGINAL_AMT':'mean'})\n",
    "avg_invalid_dispute_amount_per_customer.reset_index(inplace=True)\n",
    "avg_invalid_dispute_amount_per_customer.columns = ['FIN_KUNNR_hist_group','avg_invalid_dispute_amount']\n",
    "intem = pd.merge(avg_invalid_dispute_amount_per_customer,avg_dispute_amount_per_customer,how='inner',on='FIN_KUNNR_hist_group')\n",
    "intem['invalid_to_avg_per_customer_ratio'] = intem['avg_invalid_dispute_amount']/intem['avg_dispute_amount_per_customer']\n",
    "intem['value_label'] = np.where(intem['invalid_to_avg_per_customer_ratio'] > 1,'HIGH','LOW')\n",
    "train['FIN_KUNNR_hist_group']=train['FIN_KUNNR_hist_group'].astype(str)\n",
    "train = pd.merge(train,intem,on='FIN_KUNNR_hist_group',how='left')\n",
    "train['b_value'] = train['FIN_ORIGINAL_AMT']/train['avg_invalid_dispute_amount']\n",
    "train.loc[train['value_label'] == 'LOW','b_value']=1/train.loc[train['value_label'] == 'LOW','b_value']\n",
    "test['FIN_KUNNR_hist_group']=test['FIN_KUNNR_hist_group'].astype(str)\n",
    "test = pd.merge(test,intem,on='FIN_KUNNR_hist_group',how='left')\n",
    "test['b_value'] = test['FIN_ORIGINAL_AMT']/test['avg_invalid_dispute_amount']\n",
    "test.loc[test['value_label'] == 'LOW','b_value']=1/test.loc[test['value_label'] == 'LOW','b_value']\n",
    "train.loc[train['b_value']<=0.005,'b_value']=0.005\n",
    "train.loc[train['b_value']>=5,'b_value']=5\n",
    "test.loc[test['b_value']<=0.005,'b_value']=0.005\n",
    "test.loc[test['b_value']>=5,'b_value']=5"
   ]
  },
  {
   "cell_type": "code",
   "execution_count": null,
   "metadata": {
    "collapsed": true
   },
   "outputs": [],
   "source": [
    "y_tr = df_tr['target'].values#target variable\n",
    "skf = StratifiedKFold(y_tr,5,shuffle=True,random_state=123)\n",
    "\n",
    "for tr_ind,val_ind in skf:\n",
    "    X_tr,X_val = df_tr.iloc[tr_ind],df_tr.iloc[val_ind]\n",
    "    for col in cols:#iterate through the columns we want to encode\n",
    "        means = X_val[col].map(X_tr.groupby(col).target.mean())\n",
    "    train_new.iloc[val_ind] = X_val\n",
    "    \n",
    "prior = df_tr['target'].mean() #global mean\n",
    "train_new.fillna(prior,inplace=True)# fill nans with global means"
   ]
  }
 ],
 "metadata": {
  "kernelspec": {
   "display_name": "Python 3",
   "language": "python",
   "name": "python3"
  },
  "language_info": {
   "codemirror_mode": {
    "name": "ipython",
    "version": 3
   },
   "file_extension": ".py",
   "mimetype": "text/x-python",
   "name": "python",
   "nbconvert_exporter": "python",
   "pygments_lexer": "ipython3",
   "version": "3.6.0"
  }
 },
 "nbformat": 4,
 "nbformat_minor": 2
}
